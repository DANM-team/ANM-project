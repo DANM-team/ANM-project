{
 "metadata": {
  "language_info": {
   "codemirror_mode": {
    "name": "ipython",
    "version": 3
   },
   "file_extension": ".py",
   "mimetype": "text/x-python",
   "name": "python",
   "nbconvert_exporter": "python",
   "pygments_lexer": "ipython3",
   "version": "3.8.5-final"
  },
  "orig_nbformat": 2,
  "kernelspec": {
   "name": "Python 3.8.5 64-bit (conda)",
   "display_name": "Python 3.8.5 64-bit (conda)",
   "metadata": {
    "interpreter": {
     "hash": "b3ba2566441a7c06988d0923437866b63cedc61552a5af99d1f4fb67d367b25f"
    }
   }
  }
 },
 "nbformat": 4,
 "nbformat_minor": 2,
 "cells": [
  {
   "source": [
    "# IMPORT SECTION"
   ],
   "cell_type": "markdown",
   "metadata": {}
  },
  {
   "cell_type": "code",
   "execution_count": 3,
   "metadata": {},
   "outputs": [],
   "source": [
    "# IMPORT SECTION\n",
    "import numpy as np\n",
    "import pandas as pd\n",
    "\n",
    "import matplotlib.pyplot as plt\n",
    "import seaborn as sns\n",
    "from matplotlib.colors import ListedColormap\n",
    "\n",
    "sns.set_context(\"notebook\")"
   ]
  },
  {
   "source": [
    "# ACQUIRE DATA"
   ],
   "cell_type": "markdown",
   "metadata": {}
  },
  {
   "cell_type": "code",
   "execution_count": 3,
   "metadata": {},
   "outputs": [
    {
     "output_type": "stream",
     "name": "stdout",
     "text": [
      "===== ESB =====\nopening ./training_data/2020_05_04/esb.csv\n<class 'pandas.core.frame.DataFrame'>\nRangeIndex: 1439 entries, 0 to 1438\nData columns (total 6 columns):\n #   Column       Non-Null Count  Dtype  \n---  ------       --------------  -----  \n 0   serviceName  1439 non-null   object \n 1   startTime    1439 non-null   int64  \n 2   avg_time     1439 non-null   float64\n 3   num          1439 non-null   int64  \n 4   succee_num   1439 non-null   int64  \n 5   succee_rate  1439 non-null   float64\ndtypes: float64(2), int64(3), object(1)\nmemory usage: 67.6+ KB\nNone\n"
     ]
    },
    {
     "output_type": "execute_result",
     "data": {
      "text/plain": [
       "          startTime     avg_time          num   succee_num  succee_rate\n",
       "count  1.439000e+03  1439.000000  1439.000000  1439.000000       1439.0\n",
       "mean   1.588565e+12     0.606253   507.325226   507.325226          1.0\n",
       "std    2.494387e+07     0.042155    72.569547    72.569547          0.0\n",
       "min    1.588522e+12     0.490900   303.000000   303.000000          1.0\n",
       "25%    1.588543e+12     0.580900   449.000000   449.000000          1.0\n",
       "50%    1.588565e+12     0.604100   510.000000   510.000000          1.0\n",
       "75%    1.588586e+12     0.631300   565.000000   565.000000          1.0\n",
       "max    1.588608e+12     0.923700   704.000000   704.000000          1.0"
      ],
      "text/html": "<div>\n<style scoped>\n    .dataframe tbody tr th:only-of-type {\n        vertical-align: middle;\n    }\n\n    .dataframe tbody tr th {\n        vertical-align: top;\n    }\n\n    .dataframe thead th {\n        text-align: right;\n    }\n</style>\n<table border=\"1\" class=\"dataframe\">\n  <thead>\n    <tr style=\"text-align: right;\">\n      <th></th>\n      <th>startTime</th>\n      <th>avg_time</th>\n      <th>num</th>\n      <th>succee_num</th>\n      <th>succee_rate</th>\n    </tr>\n  </thead>\n  <tbody>\n    <tr>\n      <th>count</th>\n      <td>1.439000e+03</td>\n      <td>1439.000000</td>\n      <td>1439.000000</td>\n      <td>1439.000000</td>\n      <td>1439.0</td>\n    </tr>\n    <tr>\n      <th>mean</th>\n      <td>1.588565e+12</td>\n      <td>0.606253</td>\n      <td>507.325226</td>\n      <td>507.325226</td>\n      <td>1.0</td>\n    </tr>\n    <tr>\n      <th>std</th>\n      <td>2.494387e+07</td>\n      <td>0.042155</td>\n      <td>72.569547</td>\n      <td>72.569547</td>\n      <td>0.0</td>\n    </tr>\n    <tr>\n      <th>min</th>\n      <td>1.588522e+12</td>\n      <td>0.490900</td>\n      <td>303.000000</td>\n      <td>303.000000</td>\n      <td>1.0</td>\n    </tr>\n    <tr>\n      <th>25%</th>\n      <td>1.588543e+12</td>\n      <td>0.580900</td>\n      <td>449.000000</td>\n      <td>449.000000</td>\n      <td>1.0</td>\n    </tr>\n    <tr>\n      <th>50%</th>\n      <td>1.588565e+12</td>\n      <td>0.604100</td>\n      <td>510.000000</td>\n      <td>510.000000</td>\n      <td>1.0</td>\n    </tr>\n    <tr>\n      <th>75%</th>\n      <td>1.588586e+12</td>\n      <td>0.631300</td>\n      <td>565.000000</td>\n      <td>565.000000</td>\n      <td>1.0</td>\n    </tr>\n    <tr>\n      <th>max</th>\n      <td>1.588608e+12</td>\n      <td>0.923700</td>\n      <td>704.000000</td>\n      <td>704.000000</td>\n      <td>1.0</td>\n    </tr>\n  </tbody>\n</table>\n</div>"
     },
     "metadata": {},
     "execution_count": 3
    }
   ],
   "source": [
    "# ACQUIRE DATA\n",
    "# esb (business indicator)\n",
    "print(\"{} ESB {}\".format('='*5, '='*5))\n",
    "filename = \"./training_data/2020_05_04/esb.csv\"\n",
    "print(\"opening {}\".format(filename))\n",
    "esb_df = pd.read_csv(filename, header=0)\n",
    "esb_df = esb_df.rename(columns={\n",
    "    'serviceName': 'service_name', \n",
    "    'startTime': 'start_time'})\n",
    "print(esb_df.info())\n",
    "esb_df.describe()"
   ]
  },
  {
   "cell_type": "code",
   "execution_count": 4,
   "metadata": {},
   "outputs": [
    {
     "output_type": "stream",
     "name": "stdout",
     "text": [
      "===== host =====\n",
      "opening ./training_data/2020_05_04/host/db_oracle_11g.csv\n",
      "opening ./training_data/2020_05_04/host/dcos_container.csv\n",
      "opening ./training_data/2020_05_04/host/dcos_docker.csv\n",
      "opening ./training_data/2020_05_04/host/mw_redis.csv\n",
      "opening ./training_data/2020_05_04/host/os_linux.csv\n",
      "<class 'pandas.core.frame.DataFrame'>\n",
      "Int64Index: 2387373 entries, 0 to 1214607\n",
      "Data columns (total 6 columns):\n",
      " #   Column     Dtype  \n",
      "---  ------     -----  \n",
      " 0   itemid     int64  \n",
      " 1   name       object \n",
      " 2   bomc_id    object \n",
      " 3   timestamp  int64  \n",
      " 4   value      float64\n",
      " 5   cmdb_id    object \n",
      "dtypes: float64(1), int64(2), object(3)\n",
      "memory usage: 127.5+ MB\n",
      "None\n"
     ]
    },
    {
     "output_type": "execute_result",
     "data": {
      "text/plain": [
       "             itemid     timestamp         value\n",
       "count  2.387373e+06  2.387373e+06  2.387373e+06\n",
       "mean   7.874626e+14  1.588565e+12  7.031046e+07\n",
       "std    4.091030e+14  2.493578e+07  6.485663e+08\n",
       "min    4.871784e+07  1.588522e+12  0.000000e+00\n",
       "25%    1.000000e+15  1.588543e+12  0.000000e+00\n",
       "50%    1.000000e+15  1.588565e+12  6.000000e-01\n",
       "75%    1.000000e+15  1.588586e+12  2.782297e+01\n",
       "max    1.000000e+15  1.588608e+12  9.433807e+09"
      ],
      "text/html": "<div>\n<style scoped>\n    .dataframe tbody tr th:only-of-type {\n        vertical-align: middle;\n    }\n\n    .dataframe tbody tr th {\n        vertical-align: top;\n    }\n\n    .dataframe thead th {\n        text-align: right;\n    }\n</style>\n<table border=\"1\" class=\"dataframe\">\n  <thead>\n    <tr style=\"text-align: right;\">\n      <th></th>\n      <th>itemid</th>\n      <th>timestamp</th>\n      <th>value</th>\n    </tr>\n  </thead>\n  <tbody>\n    <tr>\n      <th>count</th>\n      <td>2.387373e+06</td>\n      <td>2.387373e+06</td>\n      <td>2.387373e+06</td>\n    </tr>\n    <tr>\n      <th>mean</th>\n      <td>7.874626e+14</td>\n      <td>1.588565e+12</td>\n      <td>7.031046e+07</td>\n    </tr>\n    <tr>\n      <th>std</th>\n      <td>4.091030e+14</td>\n      <td>2.493578e+07</td>\n      <td>6.485663e+08</td>\n    </tr>\n    <tr>\n      <th>min</th>\n      <td>4.871784e+07</td>\n      <td>1.588522e+12</td>\n      <td>0.000000e+00</td>\n    </tr>\n    <tr>\n      <th>25%</th>\n      <td>1.000000e+15</td>\n      <td>1.588543e+12</td>\n      <td>0.000000e+00</td>\n    </tr>\n    <tr>\n      <th>50%</th>\n      <td>1.000000e+15</td>\n      <td>1.588565e+12</td>\n      <td>6.000000e-01</td>\n    </tr>\n    <tr>\n      <th>75%</th>\n      <td>1.000000e+15</td>\n      <td>1.588586e+12</td>\n      <td>2.782297e+01</td>\n    </tr>\n    <tr>\n      <th>max</th>\n      <td>1.000000e+15</td>\n      <td>1.588608e+12</td>\n      <td>9.433807e+09</td>\n    </tr>\n  </tbody>\n</table>\n</div>"
     },
     "metadata": {},
     "execution_count": 4
    }
   ],
   "source": [
    "# ACQUIRE DATA\n",
    "# host KPI\n",
    "print(\"{} host {}\".format('='*5, '='*5))\n",
    "host_df_lst = []\n",
    "for s_name in [\"db_oracle_11g\", \"dcos_container\", \"dcos_docker\", \"mw_redis\", \"os_linux\"]:\n",
    "    filename = \"./training_data/2020_05_04/host/\" + s_name + \".csv\"\n",
    "    print(\"opening {}\".format(filename))\n",
    "    temp_df = pd.read_csv(filename, header=0)\n",
    "    temp_df = temp_df.rename(columns={'itemid': 'item_id'}) # rename columns so that is follows convention some_special_name\n",
    "    host_df_lst.append(temp_df)\n",
    "\n",
    "host_df = pd.concat(host_df_lst) \n",
    "print(host_df.info())\n",
    "host_df.describe()\n",
    "\n",
    "# NOTE: different itemid describes different KPIs (key performance index)"
   ]
  },
  {
   "cell_type": "code",
   "execution_count": 4,
   "metadata": {},
   "outputs": [
    {
     "output_type": "stream",
     "name": "stdout",
     "text": [
      "===== trace =====\n",
      "opening ./training_data/2020_05_04/trace/trace_csf.csv\n",
      "opening ./training_data/2020_05_04/trace/trace_fly_remote.csv\n",
      "opening ./training_data/2020_05_04/trace/trace_jdbc.csv\n",
      "opening ./training_data/2020_05_04/trace/trace_local.csv\n",
      "opening ./training_data/2020_05_04/trace/trace_osb.csv\n",
      "opening ./training_data/2020_05_04/trace/trace_remote_process.csv\n",
      "<class 'pandas.core.frame.DataFrame'>\n",
      "Int64Index: 42353226 entries, 0 to 3650204\n",
      "Data columns (total 10 columns):\n",
      " #   Column       Dtype  \n",
      "---  ------       -----  \n",
      " 0   callType     object \n",
      " 1   startTime    int64  \n",
      " 2   elapsedTime  float64\n",
      " 3   success      bool   \n",
      " 4   traceId      object \n",
      " 5   id           object \n",
      " 6   pid          object \n",
      " 7   cmdb_id      object \n",
      " 8   serviceName  object \n",
      " 9   dsName       object \n",
      "dtypes: bool(1), float64(1), int64(1), object(7)\n",
      "memory usage: 3.2+ GB\n",
      "None\n"
     ]
    }
   ],
   "source": [
    "# ACQUIRE DATA\n",
    "# trace\n",
    "print(\"{} trace {}\".format('='*5, '='*5))\n",
    "trace_df_lst = []\n",
    "for c_type in [\"csf\", \"fly_remote\", \"jdbc\", \"local\", \"osb\", \"remote_process\"]:\n",
    "    filename = \"./training_data/2020_05_04/trace/trace_\" + c_type + \".csv\"\n",
    "    print(\"opening {}\".format(filename))\n",
    "    temp_df = pd.read_csv(filename, header=0)\n",
    "    temp_df = temp_df.rename(columns={\n",
    "    'callType': 'call_type', \n",
    "    'startTime': 'start_time', \n",
    "    'elapsedTime': 'elapsed_time', \n",
    "    'traceId':'trace_id', \n",
    "    'serviceName': 'service_name', \n",
    "    'dsName': 'ds_name'}) # rename columns so that is follows convention some_special_name except for Id\n",
    "    trace_df_lst.append(temp_df)\n",
    "\n",
    "trace_df = pd.concat(trace_df_lst)\n",
    "print(trace_df.info())\n",
    "\n",
    "# NOTE: warning, trace_df is 3.2+ GB large !"
   ]
  },
  {
   "source": [
    "# VISUALIZE DATA"
   ],
   "cell_type": "markdown",
   "metadata": {}
  },
  {
   "source": [
    "## esb"
   ],
   "cell_type": "markdown",
   "metadata": {}
  },
  {
   "cell_type": "code",
   "execution_count": 5,
   "metadata": {},
   "outputs": [
    {
     "output_type": "display_data",
     "data": {
      "text/plain": "<Figure size 216x216 with 1 Axes>",
      "image/svg+xml": "<?xml version=\"1.0\" encoding=\"utf-8\" standalone=\"no\"?>\r\n<!DOCTYPE svg PUBLIC \"-//W3C//DTD SVG 1.1//EN\"\r\n  \"http://www.w3.org/Graphics/SVG/1.1/DTD/svg11.dtd\">\r\n<!-- Created with matplotlib (https://matplotlib.org/) -->\r\n<svg height=\"203.244063pt\" version=\"1.1\" viewBox=\"0 0 281.221875 203.244063\" width=\"281.221875pt\" xmlns=\"http://www.w3.org/2000/svg\" xmlns:xlink=\"http://www.w3.org/1999/xlink\">\r\n <metadata>\r\n  <rdf:RDF xmlns:cc=\"http://creativecommons.org/ns#\" xmlns:dc=\"http://purl.org/dc/elements/1.1/\" xmlns:rdf=\"http://www.w3.org/1999/02/22-rdf-syntax-ns#\">\r\n   <cc:Work>\r\n    <dc:type rdf:resource=\"http://purl.org/dc/dcmitype/StillImage\"/>\r\n    <dc:date>2020-10-30T19:55:09.779597</dc:date>\r\n    <dc:format>image/svg+xml</dc:format>\r\n    <dc:creator>\r\n     <cc:Agent>\r\n      <dc:title>Matplotlib v3.3.2, https://matplotlib.org/</dc:title>\r\n     </cc:Agent>\r\n    </dc:creator>\r\n   </cc:Work>\r\n  </rdf:RDF>\r\n </metadata>\r\n <defs>\r\n  <style type=\"text/css\">*{stroke-linecap:butt;stroke-linejoin:round;}</style>\r\n </defs>\r\n <g id=\"figure_1\">\r\n  <g id=\"patch_1\">\r\n   <path d=\"M 0 203.244063 \r\nL 281.221875 203.244063 \r\nL 281.221875 0 \r\nL 0 0 \r\nz\r\n\" style=\"fill:none;\"/>\r\n  </g>\r\n  <g id=\"axes_1\">\r\n   <g id=\"patch_2\">\r\n    <path d=\"M 65.524899 159.950625 \r\nL 215.696976 159.950625 \r\nL 215.696976 22.370625 \r\nL 65.524899 22.370625 \r\nz\r\n\" style=\"fill:#ffffff;\"/>\r\n   </g>\r\n   <g id=\"matplotlib.axis_1\">\r\n    <g id=\"xtick_1\">\r\n     <g id=\"line2d_1\">\r\n      <defs>\r\n       <path d=\"M 0 0 \r\nL 0 6 \r\n\" id=\"m4842810577\" style=\"stroke:#000000;stroke-width:1.25;\"/>\r\n      </defs>\r\n      <g>\r\n       <use style=\"stroke:#000000;stroke-width:1.25;\" x=\"72.350902\" xlink:href=\"#m4842810577\" y=\"159.950625\"/>\r\n      </g>\r\n     </g>\r\n     <g id=\"text_1\">\r\n      <!-- 0 -->\r\n      <g transform=\"translate(68.851527 177.808906)scale(0.11 -0.11)\">\r\n       <defs>\r\n        <path d=\"M 31.78125 66.40625 \r\nQ 24.171875 66.40625 20.328125 58.90625 \r\nQ 16.5 51.421875 16.5 36.375 \r\nQ 16.5 21.390625 20.328125 13.890625 \r\nQ 24.171875 6.390625 31.78125 6.390625 \r\nQ 39.453125 6.390625 43.28125 13.890625 \r\nQ 47.125 21.390625 47.125 36.375 \r\nQ 47.125 51.421875 43.28125 58.90625 \r\nQ 39.453125 66.40625 31.78125 66.40625 \r\nz\r\nM 31.78125 74.21875 \r\nQ 44.046875 74.21875 50.515625 64.515625 \r\nQ 56.984375 54.828125 56.984375 36.375 \r\nQ 56.984375 17.96875 50.515625 8.265625 \r\nQ 44.046875 -1.421875 31.78125 -1.421875 \r\nQ 19.53125 -1.421875 13.0625 8.265625 \r\nQ 6.59375 17.96875 6.59375 36.375 \r\nQ 6.59375 54.828125 13.0625 64.515625 \r\nQ 19.53125 74.21875 31.78125 74.21875 \r\nz\r\n\" id=\"DejaVuSans-48\"/>\r\n       </defs>\r\n       <use xlink:href=\"#DejaVuSans-48\"/>\r\n      </g>\r\n     </g>\r\n    </g>\r\n    <g id=\"xtick_2\">\r\n     <g id=\"line2d_2\">\r\n      <g>\r\n       <use style=\"stroke:#000000;stroke-width:1.25;\" x=\"119.819633\" xlink:href=\"#m4842810577\" y=\"159.950625\"/>\r\n      </g>\r\n     </g>\r\n     <g id=\"text_2\">\r\n      <!-- 500 -->\r\n      <g transform=\"translate(109.321508 177.808906)scale(0.11 -0.11)\">\r\n       <defs>\r\n        <path d=\"M 10.796875 72.90625 \r\nL 49.515625 72.90625 \r\nL 49.515625 64.59375 \r\nL 19.828125 64.59375 \r\nL 19.828125 46.734375 \r\nQ 21.96875 47.46875 24.109375 47.828125 \r\nQ 26.265625 48.1875 28.421875 48.1875 \r\nQ 40.625 48.1875 47.75 41.5 \r\nQ 54.890625 34.8125 54.890625 23.390625 \r\nQ 54.890625 11.625 47.5625 5.09375 \r\nQ 40.234375 -1.421875 26.90625 -1.421875 \r\nQ 22.3125 -1.421875 17.546875 -0.640625 \r\nQ 12.796875 0.140625 7.71875 1.703125 \r\nL 7.71875 11.625 \r\nQ 12.109375 9.234375 16.796875 8.0625 \r\nQ 21.484375 6.890625 26.703125 6.890625 \r\nQ 35.15625 6.890625 40.078125 11.328125 \r\nQ 45.015625 15.765625 45.015625 23.390625 \r\nQ 45.015625 31 40.078125 35.4375 \r\nQ 35.15625 39.890625 26.703125 39.890625 \r\nQ 22.75 39.890625 18.8125 39.015625 \r\nQ 14.890625 38.140625 10.796875 36.28125 \r\nz\r\n\" id=\"DejaVuSans-53\"/>\r\n       </defs>\r\n       <use xlink:href=\"#DejaVuSans-53\"/>\r\n       <use x=\"63.623047\" xlink:href=\"#DejaVuSans-48\"/>\r\n       <use x=\"127.246094\" xlink:href=\"#DejaVuSans-48\"/>\r\n      </g>\r\n     </g>\r\n    </g>\r\n    <g id=\"xtick_3\">\r\n     <g id=\"line2d_3\">\r\n      <g>\r\n       <use style=\"stroke:#000000;stroke-width:1.25;\" x=\"167.288364\" xlink:href=\"#m4842810577\" y=\"159.950625\"/>\r\n      </g>\r\n     </g>\r\n     <g id=\"text_3\">\r\n      <!-- 1000 -->\r\n      <g transform=\"translate(153.290864 177.808906)scale(0.11 -0.11)\">\r\n       <defs>\r\n        <path d=\"M 12.40625 8.296875 \r\nL 28.515625 8.296875 \r\nL 28.515625 63.921875 \r\nL 10.984375 60.40625 \r\nL 10.984375 69.390625 \r\nL 28.421875 72.90625 \r\nL 38.28125 72.90625 \r\nL 38.28125 8.296875 \r\nL 54.390625 8.296875 \r\nL 54.390625 0 \r\nL 12.40625 0 \r\nz\r\n\" id=\"DejaVuSans-49\"/>\r\n       </defs>\r\n       <use xlink:href=\"#DejaVuSans-49\"/>\r\n       <use x=\"63.623047\" xlink:href=\"#DejaVuSans-48\"/>\r\n       <use x=\"127.246094\" xlink:href=\"#DejaVuSans-48\"/>\r\n       <use x=\"190.869141\" xlink:href=\"#DejaVuSans-48\"/>\r\n      </g>\r\n     </g>\r\n    </g>\r\n    <g id=\"xtick_4\">\r\n     <g id=\"line2d_4\">\r\n      <g>\r\n       <use style=\"stroke:#000000;stroke-width:1.25;\" x=\"214.757095\" xlink:href=\"#m4842810577\" y=\"159.950625\"/>\r\n      </g>\r\n     </g>\r\n     <g id=\"text_4\">\r\n      <!-- 1500 -->\r\n      <g transform=\"translate(200.759595 177.808906)scale(0.11 -0.11)\">\r\n       <use xlink:href=\"#DejaVuSans-49\"/>\r\n       <use x=\"63.623047\" xlink:href=\"#DejaVuSans-53\"/>\r\n       <use x=\"127.246094\" xlink:href=\"#DejaVuSans-48\"/>\r\n       <use x=\"190.869141\" xlink:href=\"#DejaVuSans-48\"/>\r\n      </g>\r\n     </g>\r\n    </g>\r\n    <g id=\"text_5\">\r\n     <!-- avg_time -->\r\n     <g transform=\"translate(113.018437 193.214688)scale(0.12 -0.12)\">\r\n      <defs>\r\n       <path d=\"M 34.28125 27.484375 \r\nQ 23.390625 27.484375 19.1875 25 \r\nQ 14.984375 22.515625 14.984375 16.5 \r\nQ 14.984375 11.71875 18.140625 8.90625 \r\nQ 21.296875 6.109375 26.703125 6.109375 \r\nQ 34.1875 6.109375 38.703125 11.40625 \r\nQ 43.21875 16.703125 43.21875 25.484375 \r\nL 43.21875 27.484375 \r\nz\r\nM 52.203125 31.203125 \r\nL 52.203125 0 \r\nL 43.21875 0 \r\nL 43.21875 8.296875 \r\nQ 40.140625 3.328125 35.546875 0.953125 \r\nQ 30.953125 -1.421875 24.3125 -1.421875 \r\nQ 15.921875 -1.421875 10.953125 3.296875 \r\nQ 6 8.015625 6 15.921875 \r\nQ 6 25.140625 12.171875 29.828125 \r\nQ 18.359375 34.515625 30.609375 34.515625 \r\nL 43.21875 34.515625 \r\nL 43.21875 35.40625 \r\nQ 43.21875 41.609375 39.140625 45 \r\nQ 35.0625 48.390625 27.6875 48.390625 \r\nQ 23 48.390625 18.546875 47.265625 \r\nQ 14.109375 46.140625 10.015625 43.890625 \r\nL 10.015625 52.203125 \r\nQ 14.9375 54.109375 19.578125 55.046875 \r\nQ 24.21875 56 28.609375 56 \r\nQ 40.484375 56 46.34375 49.84375 \r\nQ 52.203125 43.703125 52.203125 31.203125 \r\nz\r\n\" id=\"DejaVuSans-97\"/>\r\n       <path d=\"M 2.984375 54.6875 \r\nL 12.5 54.6875 \r\nL 29.59375 8.796875 \r\nL 46.6875 54.6875 \r\nL 56.203125 54.6875 \r\nL 35.6875 0 \r\nL 23.484375 0 \r\nz\r\n\" id=\"DejaVuSans-118\"/>\r\n       <path d=\"M 45.40625 27.984375 \r\nQ 45.40625 37.75 41.375 43.109375 \r\nQ 37.359375 48.484375 30.078125 48.484375 \r\nQ 22.859375 48.484375 18.828125 43.109375 \r\nQ 14.796875 37.75 14.796875 27.984375 \r\nQ 14.796875 18.265625 18.828125 12.890625 \r\nQ 22.859375 7.515625 30.078125 7.515625 \r\nQ 37.359375 7.515625 41.375 12.890625 \r\nQ 45.40625 18.265625 45.40625 27.984375 \r\nz\r\nM 54.390625 6.78125 \r\nQ 54.390625 -7.171875 48.1875 -13.984375 \r\nQ 42 -20.796875 29.203125 -20.796875 \r\nQ 24.46875 -20.796875 20.265625 -20.09375 \r\nQ 16.0625 -19.390625 12.109375 -17.921875 \r\nL 12.109375 -9.1875 \r\nQ 16.0625 -11.328125 19.921875 -12.34375 \r\nQ 23.78125 -13.375 27.78125 -13.375 \r\nQ 36.625 -13.375 41.015625 -8.765625 \r\nQ 45.40625 -4.15625 45.40625 5.171875 \r\nL 45.40625 9.625 \r\nQ 42.625 4.78125 38.28125 2.390625 \r\nQ 33.9375 0 27.875 0 \r\nQ 17.828125 0 11.671875 7.65625 \r\nQ 5.515625 15.328125 5.515625 27.984375 \r\nQ 5.515625 40.671875 11.671875 48.328125 \r\nQ 17.828125 56 27.875 56 \r\nQ 33.9375 56 38.28125 53.609375 \r\nQ 42.625 51.21875 45.40625 46.390625 \r\nL 45.40625 54.6875 \r\nL 54.390625 54.6875 \r\nz\r\n\" id=\"DejaVuSans-103\"/>\r\n       <path d=\"M 50.984375 -16.609375 \r\nL 50.984375 -23.578125 \r\nL -0.984375 -23.578125 \r\nL -0.984375 -16.609375 \r\nz\r\n\" id=\"DejaVuSans-95\"/>\r\n       <path d=\"M 18.3125 70.21875 \r\nL 18.3125 54.6875 \r\nL 36.8125 54.6875 \r\nL 36.8125 47.703125 \r\nL 18.3125 47.703125 \r\nL 18.3125 18.015625 \r\nQ 18.3125 11.328125 20.140625 9.421875 \r\nQ 21.96875 7.515625 27.59375 7.515625 \r\nL 36.8125 7.515625 \r\nL 36.8125 0 \r\nL 27.59375 0 \r\nQ 17.1875 0 13.234375 3.875 \r\nQ 9.28125 7.765625 9.28125 18.015625 \r\nL 9.28125 47.703125 \r\nL 2.6875 47.703125 \r\nL 2.6875 54.6875 \r\nL 9.28125 54.6875 \r\nL 9.28125 70.21875 \r\nz\r\n\" id=\"DejaVuSans-116\"/>\r\n       <path d=\"M 9.421875 54.6875 \r\nL 18.40625 54.6875 \r\nL 18.40625 0 \r\nL 9.421875 0 \r\nz\r\nM 9.421875 75.984375 \r\nL 18.40625 75.984375 \r\nL 18.40625 64.59375 \r\nL 9.421875 64.59375 \r\nz\r\n\" id=\"DejaVuSans-105\"/>\r\n       <path d=\"M 52 44.1875 \r\nQ 55.375 50.25 60.0625 53.125 \r\nQ 64.75 56 71.09375 56 \r\nQ 79.640625 56 84.28125 50.015625 \r\nQ 88.921875 44.046875 88.921875 33.015625 \r\nL 88.921875 0 \r\nL 79.890625 0 \r\nL 79.890625 32.71875 \r\nQ 79.890625 40.578125 77.09375 44.375 \r\nQ 74.3125 48.1875 68.609375 48.1875 \r\nQ 61.625 48.1875 57.5625 43.546875 \r\nQ 53.515625 38.921875 53.515625 30.90625 \r\nL 53.515625 0 \r\nL 44.484375 0 \r\nL 44.484375 32.71875 \r\nQ 44.484375 40.625 41.703125 44.40625 \r\nQ 38.921875 48.1875 33.109375 48.1875 \r\nQ 26.21875 48.1875 22.15625 43.53125 \r\nQ 18.109375 38.875 18.109375 30.90625 \r\nL 18.109375 0 \r\nL 9.078125 0 \r\nL 9.078125 54.6875 \r\nL 18.109375 54.6875 \r\nL 18.109375 46.1875 \r\nQ 21.1875 51.21875 25.484375 53.609375 \r\nQ 29.78125 56 35.6875 56 \r\nQ 41.65625 56 45.828125 52.96875 \r\nQ 50 49.953125 52 44.1875 \r\nz\r\n\" id=\"DejaVuSans-109\"/>\r\n       <path d=\"M 56.203125 29.59375 \r\nL 56.203125 25.203125 \r\nL 14.890625 25.203125 \r\nQ 15.484375 15.921875 20.484375 11.0625 \r\nQ 25.484375 6.203125 34.421875 6.203125 \r\nQ 39.59375 6.203125 44.453125 7.46875 \r\nQ 49.3125 8.734375 54.109375 11.28125 \r\nL 54.109375 2.78125 \r\nQ 49.265625 0.734375 44.1875 -0.34375 \r\nQ 39.109375 -1.421875 33.890625 -1.421875 \r\nQ 20.796875 -1.421875 13.15625 6.1875 \r\nQ 5.515625 13.8125 5.515625 26.8125 \r\nQ 5.515625 40.234375 12.765625 48.109375 \r\nQ 20.015625 56 32.328125 56 \r\nQ 43.359375 56 49.78125 48.890625 \r\nQ 56.203125 41.796875 56.203125 29.59375 \r\nz\r\nM 47.21875 32.234375 \r\nQ 47.125 39.59375 43.09375 43.984375 \r\nQ 39.0625 48.390625 32.421875 48.390625 \r\nQ 24.90625 48.390625 20.390625 44.140625 \r\nQ 15.875 39.890625 15.1875 32.171875 \r\nz\r\n\" id=\"DejaVuSans-101\"/>\r\n      </defs>\r\n      <use xlink:href=\"#DejaVuSans-97\"/>\r\n      <use x=\"61.279297\" xlink:href=\"#DejaVuSans-118\"/>\r\n      <use x=\"120.458984\" xlink:href=\"#DejaVuSans-103\"/>\r\n      <use x=\"183.935547\" xlink:href=\"#DejaVuSans-95\"/>\r\n      <use x=\"233.935547\" xlink:href=\"#DejaVuSans-116\"/>\r\n      <use x=\"273.144531\" xlink:href=\"#DejaVuSans-105\"/>\r\n      <use x=\"300.927734\" xlink:href=\"#DejaVuSans-109\"/>\r\n      <use x=\"398.339844\" xlink:href=\"#DejaVuSans-101\"/>\r\n     </g>\r\n    </g>\r\n   </g>\r\n   <g id=\"matplotlib.axis_2\">\r\n    <g id=\"ytick_1\">\r\n     <g id=\"line2d_5\">\r\n      <defs>\r\n       <path d=\"M 0 0 \r\nL -6 0 \r\n\" id=\"m09e66ee9cb\" style=\"stroke:#000000;stroke-width:1.25;\"/>\r\n      </defs>\r\n      <g>\r\n       <use style=\"stroke:#000000;stroke-width:1.25;\" x=\"65.524899\" xlink:href=\"#m09e66ee9cb\" y=\"151.067225\"/>\r\n      </g>\r\n     </g>\r\n     <g id=\"text_6\">\r\n      <!-- 0.5 -->\r\n      <g transform=\"translate(38.531461 155.246365)scale(0.11 -0.11)\">\r\n       <defs>\r\n        <path d=\"M 10.6875 12.40625 \r\nL 21 12.40625 \r\nL 21 0 \r\nL 10.6875 0 \r\nz\r\n\" id=\"DejaVuSans-46\"/>\r\n       </defs>\r\n       <use xlink:href=\"#DejaVuSans-48\"/>\r\n       <use x=\"63.623047\" xlink:href=\"#DejaVuSans-46\"/>\r\n       <use x=\"95.410156\" xlink:href=\"#DejaVuSans-53\"/>\r\n      </g>\r\n     </g>\r\n    </g>\r\n    <g id=\"ytick_2\">\r\n     <g id=\"line2d_6\">\r\n      <g>\r\n       <use style=\"stroke:#000000;stroke-width:1.25;\" x=\"65.524899\" xlink:href=\"#m09e66ee9cb\" y=\"122.16872\"/>\r\n      </g>\r\n     </g>\r\n     <g id=\"text_7\">\r\n      <!-- 0.6 -->\r\n      <g transform=\"translate(38.531461 126.347861)scale(0.11 -0.11)\">\r\n       <defs>\r\n        <path d=\"M 33.015625 40.375 \r\nQ 26.375 40.375 22.484375 35.828125 \r\nQ 18.609375 31.296875 18.609375 23.390625 \r\nQ 18.609375 15.53125 22.484375 10.953125 \r\nQ 26.375 6.390625 33.015625 6.390625 \r\nQ 39.65625 6.390625 43.53125 10.953125 \r\nQ 47.40625 15.53125 47.40625 23.390625 \r\nQ 47.40625 31.296875 43.53125 35.828125 \r\nQ 39.65625 40.375 33.015625 40.375 \r\nz\r\nM 52.59375 71.296875 \r\nL 52.59375 62.3125 \r\nQ 48.875 64.0625 45.09375 64.984375 \r\nQ 41.3125 65.921875 37.59375 65.921875 \r\nQ 27.828125 65.921875 22.671875 59.328125 \r\nQ 17.53125 52.734375 16.796875 39.40625 \r\nQ 19.671875 43.65625 24.015625 45.921875 \r\nQ 28.375 48.1875 33.59375 48.1875 \r\nQ 44.578125 48.1875 50.953125 41.515625 \r\nQ 57.328125 34.859375 57.328125 23.390625 \r\nQ 57.328125 12.15625 50.6875 5.359375 \r\nQ 44.046875 -1.421875 33.015625 -1.421875 \r\nQ 20.359375 -1.421875 13.671875 8.265625 \r\nQ 6.984375 17.96875 6.984375 36.375 \r\nQ 6.984375 53.65625 15.1875 63.9375 \r\nQ 23.390625 74.21875 37.203125 74.21875 \r\nQ 40.921875 74.21875 44.703125 73.484375 \r\nQ 48.484375 72.75 52.59375 71.296875 \r\nz\r\n\" id=\"DejaVuSans-54\"/>\r\n       </defs>\r\n       <use xlink:href=\"#DejaVuSans-48\"/>\r\n       <use x=\"63.623047\" xlink:href=\"#DejaVuSans-46\"/>\r\n       <use x=\"95.410156\" xlink:href=\"#DejaVuSans-54\"/>\r\n      </g>\r\n     </g>\r\n    </g>\r\n    <g id=\"ytick_3\">\r\n     <g id=\"line2d_7\">\r\n      <g>\r\n       <use style=\"stroke:#000000;stroke-width:1.25;\" x=\"65.524899\" xlink:href=\"#m09e66ee9cb\" y=\"93.270216\"/>\r\n      </g>\r\n     </g>\r\n     <g id=\"text_8\">\r\n      <!-- 0.7 -->\r\n      <g transform=\"translate(38.531461 97.449356)scale(0.11 -0.11)\">\r\n       <defs>\r\n        <path d=\"M 8.203125 72.90625 \r\nL 55.078125 72.90625 \r\nL 55.078125 68.703125 \r\nL 28.609375 0 \r\nL 18.3125 0 \r\nL 43.21875 64.59375 \r\nL 8.203125 64.59375 \r\nz\r\n\" id=\"DejaVuSans-55\"/>\r\n       </defs>\r\n       <use xlink:href=\"#DejaVuSans-48\"/>\r\n       <use x=\"63.623047\" xlink:href=\"#DejaVuSans-46\"/>\r\n       <use x=\"95.410156\" xlink:href=\"#DejaVuSans-55\"/>\r\n      </g>\r\n     </g>\r\n    </g>\r\n    <g id=\"ytick_4\">\r\n     <g id=\"line2d_8\">\r\n      <g>\r\n       <use style=\"stroke:#000000;stroke-width:1.25;\" x=\"65.524899\" xlink:href=\"#m09e66ee9cb\" y=\"64.371711\"/>\r\n      </g>\r\n     </g>\r\n     <g id=\"text_9\">\r\n      <!-- 0.8 -->\r\n      <g transform=\"translate(38.531461 68.550852)scale(0.11 -0.11)\">\r\n       <defs>\r\n        <path d=\"M 31.78125 34.625 \r\nQ 24.75 34.625 20.71875 30.859375 \r\nQ 16.703125 27.09375 16.703125 20.515625 \r\nQ 16.703125 13.921875 20.71875 10.15625 \r\nQ 24.75 6.390625 31.78125 6.390625 \r\nQ 38.8125 6.390625 42.859375 10.171875 \r\nQ 46.921875 13.96875 46.921875 20.515625 \r\nQ 46.921875 27.09375 42.890625 30.859375 \r\nQ 38.875 34.625 31.78125 34.625 \r\nz\r\nM 21.921875 38.8125 \r\nQ 15.578125 40.375 12.03125 44.71875 \r\nQ 8.5 49.078125 8.5 55.328125 \r\nQ 8.5 64.0625 14.71875 69.140625 \r\nQ 20.953125 74.21875 31.78125 74.21875 \r\nQ 42.671875 74.21875 48.875 69.140625 \r\nQ 55.078125 64.0625 55.078125 55.328125 \r\nQ 55.078125 49.078125 51.53125 44.71875 \r\nQ 48 40.375 41.703125 38.8125 \r\nQ 48.828125 37.15625 52.796875 32.3125 \r\nQ 56.78125 27.484375 56.78125 20.515625 \r\nQ 56.78125 9.90625 50.3125 4.234375 \r\nQ 43.84375 -1.421875 31.78125 -1.421875 \r\nQ 19.734375 -1.421875 13.25 4.234375 \r\nQ 6.78125 9.90625 6.78125 20.515625 \r\nQ 6.78125 27.484375 10.78125 32.3125 \r\nQ 14.796875 37.15625 21.921875 38.8125 \r\nz\r\nM 18.3125 54.390625 \r\nQ 18.3125 48.734375 21.84375 45.5625 \r\nQ 25.390625 42.390625 31.78125 42.390625 \r\nQ 38.140625 42.390625 41.71875 45.5625 \r\nQ 45.3125 48.734375 45.3125 54.390625 \r\nQ 45.3125 60.0625 41.71875 63.234375 \r\nQ 38.140625 66.40625 31.78125 66.40625 \r\nQ 25.390625 66.40625 21.84375 63.234375 \r\nQ 18.3125 60.0625 18.3125 54.390625 \r\nz\r\n\" id=\"DejaVuSans-56\"/>\r\n       </defs>\r\n       <use xlink:href=\"#DejaVuSans-48\"/>\r\n       <use x=\"63.623047\" xlink:href=\"#DejaVuSans-46\"/>\r\n       <use x=\"95.410156\" xlink:href=\"#DejaVuSans-56\"/>\r\n      </g>\r\n     </g>\r\n    </g>\r\n    <g id=\"ytick_5\">\r\n     <g id=\"line2d_9\">\r\n      <g>\r\n       <use style=\"stroke:#000000;stroke-width:1.25;\" x=\"65.524899\" xlink:href=\"#m09e66ee9cb\" y=\"35.473207\"/>\r\n      </g>\r\n     </g>\r\n     <g id=\"text_10\">\r\n      <!-- 0.9 -->\r\n      <g transform=\"translate(38.531461 39.652348)scale(0.11 -0.11)\">\r\n       <defs>\r\n        <path d=\"M 10.984375 1.515625 \r\nL 10.984375 10.5 \r\nQ 14.703125 8.734375 18.5 7.8125 \r\nQ 22.3125 6.890625 25.984375 6.890625 \r\nQ 35.75 6.890625 40.890625 13.453125 \r\nQ 46.046875 20.015625 46.78125 33.40625 \r\nQ 43.953125 29.203125 39.59375 26.953125 \r\nQ 35.25 24.703125 29.984375 24.703125 \r\nQ 19.046875 24.703125 12.671875 31.3125 \r\nQ 6.296875 37.9375 6.296875 49.421875 \r\nQ 6.296875 60.640625 12.9375 67.421875 \r\nQ 19.578125 74.21875 30.609375 74.21875 \r\nQ 43.265625 74.21875 49.921875 64.515625 \r\nQ 56.59375 54.828125 56.59375 36.375 \r\nQ 56.59375 19.140625 48.40625 8.859375 \r\nQ 40.234375 -1.421875 26.421875 -1.421875 \r\nQ 22.703125 -1.421875 18.890625 -0.6875 \r\nQ 15.09375 0.046875 10.984375 1.515625 \r\nz\r\nM 30.609375 32.421875 \r\nQ 37.25 32.421875 41.125 36.953125 \r\nQ 45.015625 41.5 45.015625 49.421875 \r\nQ 45.015625 57.28125 41.125 61.84375 \r\nQ 37.25 66.40625 30.609375 66.40625 \r\nQ 23.96875 66.40625 20.09375 61.84375 \r\nQ 16.21875 57.28125 16.21875 49.421875 \r\nQ 16.21875 41.5 20.09375 36.953125 \r\nQ 23.96875 32.421875 30.609375 32.421875 \r\nz\r\n\" id=\"DejaVuSans-57\"/>\r\n       </defs>\r\n       <use xlink:href=\"#DejaVuSans-48\"/>\r\n       <use x=\"63.623047\" xlink:href=\"#DejaVuSans-46\"/>\r\n       <use x=\"95.410156\" xlink:href=\"#DejaVuSans-57\"/>\r\n      </g>\r\n     </g>\r\n    </g>\r\n   </g>\r\n   <g id=\"line2d_10\">\r\n    <path clip-path=\"url(#pc530b90d0f)\" d=\"M 72.350902 131.098358 \r\nL 72.44584 127.572741 \r\nL 72.540777 139.594518 \r\nL 72.635715 116.678004 \r\nL 72.730652 153.696989 \r\nL 73.015464 117.949539 \r\nL 73.110402 139.912402 \r\nL 73.205339 120.6371 \r\nL 73.395214 138.554172 \r\nL 73.490152 120.550404 \r\nL 73.585089 135.548728 \r\nL 73.774964 102.980113 \r\nL 74.059777 151.442905 \r\nL 74.154714 120.23252 \r\nL 74.249651 151.327311 \r\nL 74.344589 141.733008 \r\nL 74.534464 108.239641 \r\nL 74.629401 137.456029 \r\nL 74.724339 118.845392 \r\nL 74.819276 135.086352 \r\nL 75.009151 115.377572 \r\nL 75.104089 116.735801 \r\nL 75.199026 121.272867 \r\nL 75.293964 118.903189 \r\nL 75.388901 119.307768 \r\nL 75.483839 137.600522 \r\nL 75.578776 124.480601 \r\nL 75.673713 140.837154 \r\nL 75.863588 111.273984 \r\nL 76.053463 115.522064 \r\nL 76.148401 103.297997 \r\nL 76.338276 118.758697 \r\nL 76.528151 124.509499 \r\nL 76.623088 114.539515 \r\nL 76.718026 121.879735 \r\nL 76.812963 108.470829 \r\nL 76.9079 122.110923 \r\nL 77.002838 119.85684 \r\nL 77.097775 126.561293 \r\nL 77.192713 123.873732 \r\nL 77.28765 130.896069 \r\nL 77.382588 114.163835 \r\nL 77.572463 123.382457 \r\nL 77.857275 109.568972 \r\nL 78.04715 131.156155 \r\nL 78.331962 113.09459 \r\nL 78.4269 116.273425 \r\nL 78.521837 115.03079 \r\nL 78.80665 137.109247 \r\nL 78.901587 118.7009 \r\nL 79.1864 138.322984 \r\nL 79.281337 132.629979 \r\nL 79.376274 141.415124 \r\nL 79.471212 113.556966 \r\nL 79.566149 119.07658 \r\nL 79.661087 114.308327 \r\nL 79.850962 127.861726 \r\nL 79.945899 116.042237 \r\nL 80.040837 129.682331 \r\nL 80.135774 95.755487 \r\nL 80.230712 130.000215 \r\nL 80.420587 105.523182 \r\nL 80.800336 126.908075 \r\nL 80.895274 125.549845 \r\nL 80.990211 127.254857 \r\nL 81.085149 115.290876 \r\nL 81.180086 117.024786 \r\nL 81.369961 127.572741 \r\nL 81.559836 107.979555 \r\nL 81.654774 104.338343 \r\nL 81.749711 122.717792 \r\nL 82.034523 100.668233 \r\nL 82.129461 119.134377 \r\nL 82.224398 111.418477 \r\nL 82.319336 123.469153 \r\nL 82.414273 117.082583 \r\nL 82.509211 117.313772 \r\nL 82.604148 117.34267 \r\nL 82.699086 122.659995 \r\nL 82.983898 109.915754 \r\nL 83.26871 138.78536 \r\nL 83.458585 120.954983 \r\nL 83.553523 112.805605 \r\nL 83.64846 124.827383 \r\nL 83.743398 112.805605 \r\nL 83.838335 123.642544 \r\nL 83.933273 116.793598 \r\nL 84.123148 130.115809 \r\nL 84.313022 125.723236 \r\nL 84.40796 112.343229 \r\nL 84.502897 121.301765 \r\nL 84.692772 106.303441 \r\nL 84.78771 108.297438 \r\nL 84.977585 130.722678 \r\nL 85.072522 128.324102 \r\nL 85.16746 129.104361 \r\nL 85.262397 124.971875 \r\nL 85.357335 131.127257 \r\nL 85.452272 104.425039 \r\nL 85.547209 129.942418 \r\nL 85.642147 128.179609 \r\nL 85.737084 130.231403 \r\nL 85.832022 109.915754 \r\nL 86.021897 125.318657 \r\nL 86.116834 91.507407 \r\nL 86.306709 114.655109 \r\nL 86.401647 107.69057 \r\nL 86.496584 110.638217 \r\nL 86.591522 121.070577 \r\nL 86.686459 116.244527 \r\nL 86.781396 133.872615 \r\nL 86.876334 129.046564 \r\nL 86.971271 112.718909 \r\nL 87.161146 147.946186 \r\nL 87.256084 102.66223 \r\nL 87.351021 135.519829 \r\nL 87.445959 118.932088 \r\nL 87.635834 140.172489 \r\nL 87.730771 106.361238 \r\nL 87.920646 134.132701 \r\nL 88.015584 111.476274 \r\nL 88.205458 138.78536 \r\nL 88.300396 147.743897 \r\nL 88.490271 119.192174 \r\nL 88.585208 124.88518 \r\nL 88.680146 118.874291 \r\nL 88.775083 136.993653 \r\nL 88.870021 133.150152 \r\nL 88.964958 117.169279 \r\nL 89.059896 119.712347 \r\nL 89.249771 140.577068 \r\nL 89.344708 122.74669 \r\nL 89.439645 153.436902 \r\nL 89.534583 118.960986 \r\nL 89.62952 123.411356 \r\nL 89.724458 122.082025 \r\nL 89.819395 126.936974 \r\nL 89.914333 119.741246 \r\nL 90.00927 136.328987 \r\nL 90.104208 134.912961 \r\nL 90.199145 130.635982 \r\nL 90.294083 110.291435 \r\nL 90.38902 137.716116 \r\nL 90.483958 133.294644 \r\nL 90.578895 146.067783 \r\nL 90.76877 123.498051 \r\nL 90.863707 123.440254 \r\nL 91.053582 126.474597 \r\nL 91.14852 138.496375 \r\nL 91.338395 124.133819 \r\nL 91.433332 148.726446 \r\nL 91.623207 107.892859 \r\nL 91.813082 123.873732 \r\nL 91.908019 118.758697 \r\nL 92.002957 152.078672 \r\nL 92.097894 128.092914 \r\nL 92.192832 129.537839 \r\nL 92.287769 129.046564 \r\nL 92.382707 121.157273 \r\nL 92.572582 132.514385 \r\nL 92.762457 109.742363 \r\nL 92.952332 149.102126 \r\nL 93.047269 124.278311 \r\nL 93.142206 127.457147 \r\nL 93.237144 126.994771 \r\nL 93.332081 98.905424 \r\nL 93.427019 101.708579 \r\nL 93.521956 118.816494 \r\nL 93.616894 117.833945 \r\nL 93.711831 117.429366 \r\nL 93.806769 111.678563 \r\nL 94.091581 143.351324 \r\nL 94.376393 102.691128 \r\nL 94.471331 133.323543 \r\nL 94.566268 113.845951 \r\nL 94.661206 128.381899 \r\nL 94.756143 119.741246 \r\nL 94.851081 128.208508 \r\nL 95.135893 124.047123 \r\nL 95.325768 113.67256 \r\nL 95.420706 128.064015 \r\nL 95.515643 105.985558 \r\nL 95.61058 142.07979 \r\nL 95.705518 141.415124 \r\nL 95.800455 120.723795 \r\nL 95.895393 130.144708 \r\nL 95.99033 93.848186 \r\nL 96.085268 125.752135 \r\nL 96.180205 122.197619 \r\nL 96.37008 109.540074 \r\nL 96.559955 113.845951 \r\nL 96.74983 131.791922 \r\nL 97.034642 117.631655 \r\nL 97.12958 102.951215 \r\nL 97.319455 120.43481 \r\nL 97.414392 102.922316 \r\nL 97.50933 120.983882 \r\nL 97.604267 117.516061 \r\nL 97.699205 128.035117 \r\nL 97.794142 101.043914 \r\nL 97.88908 126.734684 \r\nL 97.984017 122.37101 \r\nL 98.078954 128.266305 \r\nL 98.173892 113.817052 \r\nL 98.268829 126.590191 \r\nL 98.933392 104.714024 \r\nL 99.028329 123.642544 \r\nL 99.123267 94.368359 \r\nL 99.218204 114.799602 \r\nL 99.408079 104.338343 \r\nL 99.503016 125.029672 \r\nL 99.597954 109.22219 \r\nL 99.692891 112.776706 \r\nL 99.787829 99.830176 \r\nL 99.882766 124.30721 \r\nL 99.977704 108.586423 \r\nL 100.072641 118.729798 \r\nL 100.167579 102.113158 \r\nL 100.262516 121.995329 \r\nL 100.357454 99.916872 \r\nL 100.452391 119.799043 \r\nL 100.547328 118.989885 \r\nL 100.642266 116.938091 \r\nL 100.737203 118.065133 \r\nL 100.832141 121.21507 \r\nL 100.927078 130.896069 \r\nL 101.116953 116.273425 \r\nL 101.306828 126.994771 \r\nL 101.496703 105.927761 \r\nL 101.591641 114.944094 \r\nL 101.686578 113.09459 \r\nL 101.781516 114.163835 \r\nL 101.97139 124.249413 \r\nL 102.066328 100.350349 \r\nL 102.161265 112.227635 \r\nL 102.35114 104.280546 \r\nL 102.446078 125.058571 \r\nL 102.541015 100.379248 \r\nL 102.635953 126.127815 \r\nL 102.73089 103.066809 \r\nL 102.920765 122.833386 \r\nL 103.015703 103.471388 \r\nL 103.11064 118.903189 \r\nL 103.395452 101.939767 \r\nL 103.49039 104.107155 \r\nL 103.585327 125.896627 \r\nL 103.775202 116.302324 \r\nL 103.87014 107.603874 \r\nL 103.965077 121.79304 \r\nL 104.060015 115.377572 \r\nL 104.154952 124.076022 \r\nL 104.24989 122.659995 \r\nL 104.344827 110.407029 \r\nL 104.439764 116.735801 \r\nL 104.534702 104.59843 \r\nL 104.629639 119.423362 \r\nL 104.724577 95.871081 \r\nL 104.914452 125.058571 \r\nL 105.104327 105.696573 \r\nL 105.294202 126.503496 \r\nL 105.484077 122.486604 \r\nL 105.579014 125.781033 \r\nL 105.673951 103.61588 \r\nL 105.958764 121.243968 \r\nL 106.053701 111.013898 \r\nL 106.148639 115.753252 \r\nL 106.243576 112.545518 \r\nL 106.338514 102.835621 \r\nL 106.433451 115.319775 \r\nL 106.528389 28.624261 \r\nL 106.718264 131.011663 \r\nL 106.908138 120.723795 \r\nL 107.003076 144.362772 \r\nL 107.098013 125.087469 \r\nL 107.192951 138.669766 \r\nL 107.287888 134.710671 \r\nL 107.382826 140.92385 \r\nL 107.572701 115.926643 \r\nL 107.762576 131.994212 \r\nL 107.857513 132.312095 \r\nL 107.952451 120.983882 \r\nL 108.047388 143.264629 \r\nL 108.237263 117.949539 \r\nL 108.3322 121.186171 \r\nL 108.427138 110.118044 \r\nL 108.617013 147.194825 \r\nL 108.806888 122.573299 \r\nL 108.901825 120.261419 \r\nL 109.0917 127.39935 \r\nL 109.186638 144.96964 \r\nL 109.281575 106.997005 \r\nL 109.376512 128.699782 \r\nL 109.47145 107.517179 \r\nL 109.661325 140.72156 \r\nL 109.756262 132.109806 \r\nL 109.946137 109.22219 \r\nL 110.136012 121.070577 \r\nL 110.23095 99.541191 \r\nL 110.515762 118.151828 \r\nL 110.610699 127.486045 \r\nL 110.895512 109.482277 \r\nL 110.990449 136.906958 \r\nL 111.085387 119.047682 \r\nL 111.180324 126.532394 \r\nL 111.275262 125.549845 \r\nL 111.370199 109.886856 \r\nL 111.465137 123.035675 \r\nL 111.560074 121.417359 \r\nL 111.655012 118.874291 \r\nL 111.749949 143.23573 \r\nL 111.939824 105.031907 \r\nL 112.034761 130.202505 \r\nL 112.129699 107.314889 \r\nL 112.224636 126.647988 \r\nL 112.319574 126.532394 \r\nL 112.414511 117.313772 \r\nL 112.509449 91.825291 \r\nL 112.604386 121.706344 \r\nL 112.699324 121.648547 \r\nL 112.794261 116.302324 \r\nL 112.889199 123.613646 \r\nL 112.984136 115.088587 \r\nL 113.079073 115.637658 \r\nL 113.174011 127.486045 \r\nL 113.363886 111.129492 \r\nL 113.458823 111.93865 \r\nL 113.648698 96.160066 \r\nL 114.028448 131.589633 \r\nL 114.123386 111.100593 \r\nL 114.313261 126.243409 \r\nL 114.408198 108.875408 \r\nL 114.503135 126.359003 \r\nL 114.598073 88.906542 \r\nL 114.69301 130.404794 \r\nL 114.787948 120.926085 \r\nL 114.882885 95.928878 \r\nL 115.07276 110.638217 \r\nL 115.167698 104.742922 \r\nL 115.357573 122.457705 \r\nL 115.45251 128.295203 \r\nL 115.547448 116.822497 \r\nL 115.642385 117.776148 \r\nL 115.737322 120.579303 \r\nL 115.83226 135.635423 \r\nL 115.927197 106.303441 \r\nL 116.117072 131.474039 \r\nL 116.21201 107.661671 \r\nL 116.306947 126.734684 \r\nL 116.401885 119.885738 \r\nL 116.496822 123.902631 \r\nL 116.59176 110.204739 \r\nL 116.686697 115.03079 \r\nL 116.781635 139.421127 \r\nL 116.876572 89.108831 \r\nL 116.971509 146.443464 \r\nL 117.161384 114.944094 \r\nL 117.256322 113.09459 \r\nL 117.446197 123.584747 \r\nL 117.541134 121.330664 \r\nL 117.920884 95.379807 \r\nL 118.110759 127.081466 \r\nL 118.205696 111.880853 \r\nL 118.300634 114.972993 \r\nL 118.585446 130.404794 \r\nL 118.680384 129.191057 \r\nL 118.775321 114.799602 \r\nL 118.870259 124.451702 \r\nL 118.965196 106.447934 \r\nL 119.060134 117.747249 \r\nL 119.250009 94.570649 \r\nL 119.344946 127.948421 \r\nL 119.439883 118.440813 \r\nL 119.629758 121.561852 \r\nL 119.724696 112.776706 \r\nL 119.819633 128.93097 \r\nL 119.914571 112.978996 \r\nL 120.009508 125.520947 \r\nL 120.199383 116.042237 \r\nL 120.294321 137.658319 \r\nL 120.389258 116.851395 \r\nL 120.484196 122.255416 \r\nL 120.579133 136.878059 \r\nL 120.769008 115.233079 \r\nL 120.863945 119.85684 \r\nL 120.958883 111.851954 \r\nL 121.148758 115.233079 \r\nL 121.43357 147.397115 \r\nL 121.528508 123.498051 \r\nL 121.623445 140.894951 \r\nL 121.908257 110.262536 \r\nL 122.003195 138.033999 \r\nL 122.288007 112.805605 \r\nL 122.382945 153.29241 \r\nL 122.57282 132.514385 \r\nL 122.667757 121.619649 \r\nL 122.857632 130.578185 \r\nL 122.95257 128.468594 \r\nL 123.047507 123.382457 \r\nL 123.142444 141.472921 \r\nL 123.237382 135.057453 \r\nL 123.332319 113.528067 \r\nL 123.427257 125.83883 \r\nL 123.522194 124.365007 \r\nL 123.617132 130.924967 \r\nL 123.712069 122.804487 \r\nL 123.807007 128.035117 \r\nL 123.901944 126.214511 \r\nL 123.996882 104.078256 \r\nL 124.186757 142.166485 \r\nL 124.281694 142.599963 \r\nL 124.376631 107.748367 \r\nL 124.471569 137.456029 \r\nL 124.566506 134.73957 \r\nL 124.661444 113.845951 \r\nL 124.851319 134.334991 \r\nL 124.946256 115.897745 \r\nL 125.136131 128.902072 \r\nL 125.231069 76.56688 \r\nL 125.420944 140.866053 \r\nL 125.515881 139.970199 \r\nL 125.610818 143.900396 \r\nL 125.800693 117.400467 \r\nL 125.895631 138.149593 \r\nL 125.990568 137.398232 \r\nL 126.085506 145.258625 \r\nL 126.180443 141.819703 \r\nL 126.275381 147.512709 \r\nL 126.465256 132.283197 \r\nL 126.560193 143.062339 \r\nL 126.655131 129.566737 \r\nL 126.750068 137.311537 \r\nL 126.845005 126.879177 \r\nL 127.03488 152.30986 \r\nL 127.129818 141.733008 \r\nL 127.224755 102.199854 \r\nL 127.319693 137.773913 \r\nL 127.509568 115.897745 \r\nL 127.604505 118.845392 \r\nL 127.699443 143.958193 \r\nL 127.79438 113.325778 \r\nL 127.889318 143.958193 \r\nL 127.984255 125.000774 \r\nL 128.079193 149.853488 \r\nL 128.17413 113.614763 \r\nL 128.269067 145.345321 \r\nL 128.364005 131.791922 \r\nL 128.458942 135.057453 \r\nL 128.55388 129.740128 \r\nL 128.743755 137.860608 \r\nL 128.93363 121.532953 \r\nL 129.028567 143.698106 \r\nL 129.218442 118.614204 \r\nL 129.31338 127.572741 \r\nL 129.408317 125.723236 \r\nL 129.503254 144.276076 \r\nL 129.693129 130.346997 \r\nL 129.788067 140.92385 \r\nL 129.977942 119.914637 \r\nL 130.072879 135.837713 \r\nL 130.262754 122.399908 \r\nL 130.357692 98.905424 \r\nL 130.452629 130.722678 \r\nL 130.832379 89.051034 \r\nL 131.117191 122.110923 \r\nL 131.212129 114.770703 \r\nL 131.307066 136.617973 \r\nL 131.402004 119.105479 \r\nL 131.496941 123.52695 \r\nL 131.591879 139.045447 \r\nL 131.686816 109.251089 \r\nL 131.781754 124.133819 \r\nL 131.876691 102.864519 \r\nL 132.066566 118.12293 \r\nL 132.161503 113.961545 \r\nL 132.256441 116.389019 \r\nL 132.351378 108.384134 \r\nL 132.446316 124.278311 \r\nL 132.541253 108.702017 \r\nL 132.826066 131.878618 \r\nL 133.015941 117.805046 \r\nL 133.110878 120.954983 \r\nL 133.205815 104.685125 \r\nL 133.300753 105.031907 \r\nL 133.39569 126.705785 \r\nL 133.490628 101.477391 \r\nL 133.585565 111.042796 \r\nL 133.680503 108.991002 \r\nL 133.77544 93.674795 \r\nL 133.965315 110.58042 \r\nL 134.060253 110.320333 \r\nL 134.250128 129.219955 \r\nL 134.345065 107.806164 \r\nL 134.440002 128.670884 \r\nL 134.629877 117.949539 \r\nL 134.724815 119.163276 \r\nL 134.819752 125.520947 \r\nL 135.009627 113.296879 \r\nL 135.104565 119.047682 \r\nL 135.199502 116.128933 \r\nL 135.29444 96.824732 \r\nL 135.484315 130.202505 \r\nL 135.579252 126.127815 \r\nL 135.674189 114.8285 \r\nL 135.769127 127.225959 \r\nL 135.864064 113.210184 \r\nL 136.053939 117.833945 \r\nL 136.148877 141.444023 \r\nL 136.433689 101.968666 \r\nL 136.528627 124.827383 \r\nL 136.718502 107.950656 \r\nL 136.813439 122.428807 \r\nL 137.003314 99.801278 \r\nL 137.098251 107.430483 \r\nL 137.193189 105.465385 \r\nL 137.288126 126.359003 \r\nL 137.383064 112.863402 \r\nL 137.478001 123.72924 \r\nL 137.572939 107.170396 \r\nL 137.667876 119.85684 \r\nL 137.762814 110.898304 \r\nL 137.857751 127.514944 \r\nL 137.952689 121.186171 \r\nL 138.047626 121.937532 \r\nL 138.332438 108.326337 \r\nL 138.427376 109.915754 \r\nL 138.522313 106.794716 \r\nL 138.617251 125.029672 \r\nL 138.712188 118.874291 \r\nL 138.807126 120.23252 \r\nL 138.902063 96.940326 \r\nL 139.091938 121.677446 \r\nL 139.281813 109.193292 \r\nL 139.37675 110.724913 \r\nL 139.471688 123.758138 \r\nL 139.566625 107.228193 \r\nL 139.7565 122.602198 \r\nL 139.946375 117.082583 \r\nL 140.13625 131.416242 \r\nL 140.231188 113.87485 \r\nL 140.516 130.780475 \r\nL 140.610937 109.540074 \r\nL 140.705875 35.99338 \r\nL 140.89575 130.693779 \r\nL 140.990687 128.295203 \r\nL 141.085625 129.364448 \r\nL 141.180562 147.657201 \r\nL 141.370437 118.672001 \r\nL 141.465375 113.817052 \r\nL 141.560312 137.224841 \r\nL 141.65525 131.271749 \r\nL 141.845125 139.970199 \r\nL 141.940062 133.901513 \r\nL 142.034999 144.044888 \r\nL 142.224874 124.191616 \r\nL 142.319812 139.045447 \r\nL 142.414749 111.93865 \r\nL 142.509687 126.127815 \r\nL 142.604624 121.79304 \r\nL 142.699562 135.982205 \r\nL 142.794499 134.970758 \r\nL 142.889437 105.898862 \r\nL 142.984374 106.447934 \r\nL 143.174249 126.098917 \r\nL 143.269186 114.048241 \r\nL 143.364124 130.896069 \r\nL 143.459061 129.566737 \r\nL 143.553999 128.353 \r\nL 143.648936 130.115809 \r\nL 143.838811 110.146942 \r\nL 144.123624 126.214511 \r\nL 144.218561 117.949539 \r\nL 144.313499 128.815376 \r\nL 144.408436 125.029672 \r\nL 144.503373 127.110365 \r\nL 144.598311 112.429924 \r\nL 144.693248 113.961545 \r\nL 144.788186 116.533512 \r\nL 144.883123 129.191057 \r\nL 144.978061 110.724913 \r\nL 145.167936 138.380781 \r\nL 145.262873 118.209625 \r\nL 145.357811 133.612528 \r\nL 145.452748 125.000774 \r\nL 145.547686 130.896069 \r\nL 145.642623 108.817611 \r\nL 145.73756 119.336667 \r\nL 145.832498 115.319775 \r\nL 145.927435 117.140381 \r\nL 146.11731 132.196501 \r\nL 146.212248 119.741246 \r\nL 146.307185 121.532953 \r\nL 146.49706 105.927761 \r\nL 146.686935 127.717233 \r\nL 146.87681 110.58042 \r\nL 146.971747 125.607642 \r\nL 147.066685 113.730357 \r\nL 147.161622 115.868846 \r\nL 147.25656 100.610436 \r\nL 147.351497 125.145266 \r\nL 147.446435 112.805605 \r\nL 147.541372 130.693779 \r\nL 147.63631 107.921758 \r\nL 147.731247 132.947862 \r\nL 147.826185 117.805046 \r\nL 147.921122 118.845392 \r\nL 148.110997 114.106038 \r\nL 148.300872 123.353559 \r\nL 148.395809 123.787037 \r\nL 148.490747 128.959869 \r\nL 148.585684 112.169838 \r\nL 148.775559 127.023669 \r\nL 148.870497 124.827383 \r\nL 148.965434 112.487721 \r\nL 149.060372 114.45282 \r\nL 149.155309 128.497493 \r\nL 149.440121 116.273425 \r\nL 149.535059 125.000774 \r\nL 149.724934 111.649665 \r\nL 149.914809 124.711789 \r\nL 150.009746 109.251089 \r\nL 150.104684 128.121812 \r\nL 150.294559 111.013898 \r\nL 150.484434 136.935856 \r\nL 150.769246 110.869405 \r\nL 150.864183 122.775589 \r\nL 150.959121 109.106596 \r\nL 151.054058 131.878618 \r\nL 151.243933 121.272867 \r\nL 151.338871 122.977878 \r\nL 151.433808 81.826408 \r\nL 151.623683 132.2254 \r\nL 151.718621 108.64422 \r\nL 151.908495 129.942418 \r\nL 152.003433 117.111482 \r\nL 152.09837 141.068342 \r\nL 152.193308 104.685125 \r\nL 152.288245 124.711789 \r\nL 152.47812 112.198736 \r\nL 152.667995 122.399908 \r\nL 152.762933 109.193292 \r\nL 152.85787 129.451143 \r\nL 152.952808 127.919523 \r\nL 153.142682 116.880294 \r\nL 153.23762 127.052568 \r\nL 153.427495 108.441931 \r\nL 153.522432 128.93097 \r\nL 153.712307 108.64422 \r\nL 153.807245 123.671443 \r\nL 153.902182 123.035675 \r\nL 153.99712 108.64422 \r\nL 154.186995 130.462591 \r\nL 154.37687 123.237965 \r\nL 154.471807 105.956659 \r\nL 154.566744 126.243409 \r\nL 154.661682 118.267422 \r\nL 154.756619 122.16872 \r\nL 154.851557 132.052009 \r\nL 154.946494 128.959869 \r\nL 155.136369 115.811049 \r\nL 155.231307 123.295762 \r\nL 155.326244 121.01278 \r\nL 155.421182 100.437045 \r\nL 155.516119 140.952748 \r\nL 155.705994 118.845392 \r\nL 155.895869 128.786478 \r\nL 156.085744 119.018783 \r\nL 156.180681 134.306092 \r\nL 156.275619 99.338902 \r\nL 156.560431 146.096682 \r\nL 156.655369 113.036793 \r\nL 156.845244 137.773913 \r\nL 157.035118 141.848602 \r\nL 157.130056 109.106596 \r\nL 157.224993 131.907516 \r\nL 157.319931 108.355235 \r\nL 157.414868 139.132142 \r\nL 157.604743 122.139822 \r\nL 157.699681 123.006777 \r\nL 157.794618 134.623976 \r\nL 157.889556 110.638217 \r\nL 157.984493 120.463709 \r\nL 158.079431 118.758697 \r\nL 158.174368 134.681773 \r\nL 158.269305 122.399908 \r\nL 158.45918 133.843716 \r\nL 158.649055 119.799043 \r\nL 158.743993 113.210184 \r\nL 158.83893 139.218838 \r\nL 158.933868 126.965872 \r\nL 159.028805 127.168162 \r\nL 159.123743 121.417359 \r\nL 159.21868 124.10492 \r\nL 159.313618 119.423362 \r\nL 159.503492 131.474039 \r\nL 159.59843 129.017666 \r\nL 159.693367 109.944653 \r\nL 159.788305 125.781033 \r\nL 159.883242 116.446816 \r\nL 159.97818 133.150152 \r\nL 160.073117 113.267981 \r\nL 160.168055 126.474597 \r\nL 160.35793 120.348114 \r\nL 160.452867 130.578185 \r\nL 160.547805 128.179609 \r\nL 160.832617 139.536721 \r\nL 160.927554 128.613087 \r\nL 161.022492 144.651757 \r\nL 161.117429 143.062339 \r\nL 161.212367 110.349232 \r\nL 161.307304 135.462032 \r\nL 161.402242 133.17905 \r\nL 161.497179 140.34588 \r\nL 161.592117 125.520947 \r\nL 161.687054 137.427131 \r\nL 161.781992 131.907516 \r\nL 161.876929 134.855164 \r\nL 161.971866 114.019342 \r\nL 162.161741 132.138704 \r\nL 162.256679 121.619649 \r\nL 162.351616 131.560734 \r\nL 162.446554 129.913519 \r\nL 162.636429 123.671443 \r\nL 162.826304 112.776706 \r\nL 163.016179 143.004542 \r\nL 163.111116 114.366124 \r\nL 163.206053 142.599963 \r\nL 163.300991 115.955542 \r\nL 163.395928 117.54496 \r\nL 163.490866 144.680655 \r\nL 163.775678 119.047682 \r\nL 163.870616 125.145266 \r\nL 164.060491 108.904307 \r\nL 164.155428 120.608201 \r\nL 164.250366 116.966989 \r\nL 164.345303 135.722119 \r\nL 164.535178 121.908634 \r\nL 164.630115 125.607642 \r\nL 164.81999 111.967548 \r\nL 165.009865 117.833945 \r\nL 165.104803 139.334432 \r\nL 165.19974 116.389019 \r\nL 165.294678 138.438578 \r\nL 165.484553 108.759814 \r\nL 165.57949 117.631655 \r\nL 165.674427 101.217305 \r\nL 165.95924 133.439137 \r\nL 166.054177 120.983882 \r\nL 166.149115 138.005101 \r\nL 166.244052 114.857399 \r\nL 166.33899 116.446816 \r\nL 166.433927 108.875408 \r\nL 166.71874 137.138146 \r\nL 166.908614 126.127815 \r\nL 167.003552 128.035117 \r\nL 167.098489 126.127815 \r\nL 167.193427 127.023669 \r\nL 167.383302 107.632773 \r\nL 167.478239 121.648547 \r\nL 167.573177 113.123488 \r\nL 167.668114 113.932647 \r\nL 167.763052 116.18673 \r\nL 167.857989 98.21186 \r\nL 167.952927 102.026463 \r\nL 168.047864 127.890624 \r\nL 168.142802 123.902631 \r\nL 168.237739 128.179609 \r\nL 168.332676 113.383575 \r\nL 168.427614 122.631096 \r\nL 168.522551 102.980113 \r\nL 168.712426 118.440813 \r\nL 168.807364 115.088587 \r\nL 168.902301 100.957218 \r\nL 169.092176 119.799043 \r\nL 169.187114 130.318099 \r\nL 169.282051 124.914078 \r\nL 169.376989 128.670884 \r\nL 169.471926 110.407029 \r\nL 169.566863 111.505172 \r\nL 169.661801 97.4316 \r\nL 169.756738 104.136053 \r\nL 169.851676 80.323686 \r\nL 170.136488 128.035117 \r\nL 170.231426 101.824173 \r\nL 170.326363 128.699782 \r\nL 170.421301 93.96378 \r\nL 170.516238 125.925526 \r\nL 170.611176 113.614763 \r\nL 170.706113 118.036234 \r\nL 170.80105 115.493166 \r\nL 171.085863 129.162158 \r\nL 171.1808 122.16872 \r\nL 171.275738 125.405353 \r\nL 171.370675 92.663347 \r\nL 171.465613 112.978996 \r\nL 171.56055 112.227635 \r\nL 171.655488 101.101711 \r\nL 171.750425 112.083142 \r\nL 171.845363 99.859075 \r\nL 171.9403 122.255416 \r\nL 172.225112 97.084818 \r\nL 172.32005 100.437045 \r\nL 172.509925 128.902072 \r\nL 172.604862 112.690011 \r\nL 172.6998 116.071136 \r\nL 172.889675 100.119161 \r\nL 173.07955 136.646871 \r\nL 173.174487 95.206416 \r\nL 173.269424 115.493166 \r\nL 173.364362 112.198736 \r\nL 173.459299 95.553198 \r\nL 173.554237 96.362356 \r\nL 173.649174 115.001891 \r\nL 173.839049 96.073371 \r\nL 174.028924 125.000774 \r\nL 174.218799 103.673677 \r\nL 174.313737 121.821938 \r\nL 174.408674 104.107155 \r\nL 174.598549 143.698106 \r\nL 174.693486 111.302883 \r\nL 174.788424 121.417359 \r\nL 174.883361 35.21312 \r\nL 175.073236 139.305533 \r\nL 175.168174 126.936974 \r\nL 175.263111 134.421686 \r\nL 175.358049 110.667116 \r\nL 175.452986 134.941859 \r\nL 175.547924 121.764141 \r\nL 175.642861 122.977878 \r\nL 175.737798 121.879735 \r\nL 175.832736 132.456588 \r\nL 175.927673 123.758138 \r\nL 176.022611 139.999098 \r\nL 176.307423 104.742922 \r\nL 176.402361 105.205298 \r\nL 176.497298 115.146384 \r\nL 176.592236 110.609318 \r\nL 176.687173 127.254857 \r\nL 176.782111 122.024228 \r\nL 176.877048 125.665439 \r\nL 176.971985 123.237965 \r\nL 177.066923 128.93097 \r\nL 177.351735 99.194409 \r\nL 177.446673 136.617973 \r\nL 177.636548 86.99924 \r\nL 177.826423 115.550963 \r\nL 177.92136 127.39935 \r\nL 178.111235 112.112041 \r\nL 178.206172 117.747249 \r\nL 178.30111 130.2892 \r\nL 178.396047 127.630538 \r\nL 178.490985 115.493166 \r\nL 178.68086 127.630538 \r\nL 178.870735 103.442489 \r\nL 179.155547 128.728681 \r\nL 179.250485 127.428248 \r\nL 179.345422 102.142057 \r\nL 179.440359 103.875967 \r\nL 179.535297 90.987234 \r\nL 179.820109 130.433693 \r\nL 179.915047 114.423921 \r\nL 180.009984 115.146384 \r\nL 180.104922 117.92064 \r\nL 180.294797 112.343229 \r\nL 180.389734 113.354676 \r\nL 180.484672 123.064574 \r\nL 180.579609 122.053126 \r\nL 180.674547 119.799043 \r\nL 180.769484 125.318657 \r\nL 180.864421 109.80016 \r\nL 180.959359 132.832268 \r\nL 181.149234 118.267422 \r\nL 181.244171 133.58363 \r\nL 181.434046 119.799043 \r\nL 181.528984 129.50894 \r\nL 181.623921 102.66223 \r\nL 181.718859 121.041679 \r\nL 181.813796 113.123488 \r\nL 181.908734 113.412473 \r\nL 182.003671 125.636541 \r\nL 182.098608 125.000774 \r\nL 182.193546 132.138704 \r\nL 182.288483 115.117485 \r\nL 182.478358 122.74669 \r\nL 182.573296 105.291994 \r\nL 182.668233 126.098917 \r\nL 182.858108 105.234197 \r\nL 182.953046 120.001332 \r\nL 183.047983 101.275102 \r\nL 183.237858 118.527509 \r\nL 183.427733 130.809373 \r\nL 183.617608 95.495401 \r\nL 183.712545 126.156714 \r\nL 183.807483 121.21507 \r\nL 183.90242 115.40647 \r\nL 183.997358 128.121812 \r\nL 184.187233 112.198736 \r\nL 184.28217 125.520947 \r\nL 184.377108 121.908634 \r\nL 184.472045 123.411356 \r\nL 184.566982 108.84651 \r\nL 184.66192 134.53728 \r\nL 184.756857 131.878618 \r\nL 184.851795 121.475156 \r\nL 184.946732 126.445699 \r\nL 185.04167 121.272867 \r\nL 185.136607 98.963221 \r\nL 185.326482 116.042237 \r\nL 185.42142 106.447934 \r\nL 185.516357 110.089145 \r\nL 185.611295 106.939208 \r\nL 185.706232 123.844834 \r\nL 185.801169 104.540633 \r\nL 185.896107 124.88518 \r\nL 186.085982 107.574976 \r\nL 186.275857 131.878618 \r\nL 186.370794 114.366124 \r\nL 186.465732 122.688893 \r\nL 186.560669 100.061364 \r\nL 186.655607 129.306651 \r\nL 186.750544 112.343229 \r\nL 186.845482 128.497493 \r\nL 186.940419 107.546077 \r\nL 187.035356 129.942418 \r\nL 187.130294 106.765817 \r\nL 187.225231 121.01278 \r\nL 187.320169 95.813284 \r\nL 187.415106 129.335549 \r\nL 187.510044 109.135495 \r\nL 187.604981 120.608201 \r\nL 187.794856 107.806164 \r\nL 187.984731 129.075463 \r\nL 188.269543 113.643661 \r\nL 188.364481 113.152387 \r\nL 188.459418 118.960986 \r\nL 188.554356 111.678563 \r\nL 188.649293 119.27887 \r\nL 188.744231 99.859075 \r\nL 188.839168 133.699224 \r\nL 188.934106 105.089704 \r\nL 189.123981 128.353 \r\nL 189.218918 133.034558 \r\nL 189.313856 123.122371 \r\nL 189.408793 125.405353 \r\nL 189.50373 141.559617 \r\nL 189.693605 120.723795 \r\nL 189.788543 111.534071 \r\nL 189.978418 115.233079 \r\nL 190.073355 106.621325 \r\nL 190.168293 115.695455 \r\nL 190.26323 112.458823 \r\nL 190.358168 124.827383 \r\nL 190.453105 113.614763 \r\nL 190.548043 127.19706 \r\nL 190.64298 115.435369 \r\nL 190.737917 123.52695 \r\nL 190.832855 116.793598 \r\nL 190.927792 135.173047 \r\nL 191.02273 117.631655 \r\nL 191.117667 143.582512 \r\nL 191.212605 98.616439 \r\nL 191.40248 130.751576 \r\nL 191.592355 115.493166 \r\nL 191.78223 133.063456 \r\nL 191.972104 95.755487 \r\nL 192.067042 109.077698 \r\nL 192.256917 132.052009 \r\nL 192.351854 135.519829 \r\nL 192.541729 116.215628 \r\nL 192.636667 141.993094 \r\nL 192.731604 131.878618 \r\nL 192.826542 143.698106 \r\nL 193.016417 118.151828 \r\nL 193.111354 127.457147 \r\nL 193.206291 118.12293 \r\nL 193.301229 118.903189 \r\nL 193.396166 122.428807 \r\nL 193.491104 114.019342 \r\nL 193.680979 131.213952 \r\nL 193.775916 126.359003 \r\nL 193.965791 135.433134 \r\nL 194.155666 125.434251 \r\nL 194.440479 132.890065 \r\nL 194.535416 141.270632 \r\nL 194.725291 115.955542 \r\nL 194.915166 133.670325 \r\nL 195.105041 127.023669 \r\nL 195.294916 122.602198 \r\nL 195.484791 129.277752 \r\nL 195.674666 100.870522 \r\nL 195.769603 117.978437 \r\nL 195.86454 113.730357 \r\nL 196.054415 133.294644 \r\nL 196.149353 107.979555 \r\nL 196.24429 111.245086 \r\nL 196.434165 132.427689 \r\nL 196.529103 132.167603 \r\nL 196.62404 124.10492 \r\nL 196.718978 135.866611 \r\nL 197.00379 106.216746 \r\nL 197.098727 129.566737 \r\nL 197.193665 122.602198 \r\nL 197.288602 134.421686 \r\nL 197.38354 94.455055 \r\nL 197.573415 136.097799 \r\nL 197.668352 131.474039 \r\nL 197.76329 120.23252 \r\nL 197.953165 126.647988 \r\nL 198.14304 112.690011 \r\nL 198.237977 114.308327 \r\nL 198.332914 124.971875 \r\nL 198.427852 121.186171 \r\nL 198.522789 124.567296 \r\nL 198.712664 113.556966 \r\nL 198.902539 136.386784 \r\nL 198.997477 132.80337 \r\nL 199.092414 124.393905 \r\nL 199.187352 104.049358 \r\nL 199.282289 132.774471 \r\nL 199.472164 108.875408 \r\nL 199.567101 139.536721 \r\nL 199.662039 135.375337 \r\nL 199.756976 132.658877 \r\nL 199.851914 125.607642 \r\nL 199.946851 126.850278 \r\nL 200.136726 114.077139 \r\nL 200.326601 132.716674 \r\nL 200.421539 100.379248 \r\nL 200.611414 128.353 \r\nL 200.706351 123.642544 \r\nL 200.801288 104.656227 \r\nL 200.991163 142.65776 \r\nL 201.181038 110.609318 \r\nL 201.275976 117.833945 \r\nL 201.370913 97.258209 \r\nL 201.465851 127.832827 \r\nL 201.560788 122.428807 \r\nL 201.655726 128.468594 \r\nL 201.940538 113.528067 \r\nL 202.035475 120.579303 \r\nL 202.320288 91.680798 \r\nL 202.415225 111.331781 \r\nL 202.510163 95.32201 \r\nL 202.700038 129.191057 \r\nL 202.794975 120.059129 \r\nL 202.98485 131.011663 \r\nL 203.174725 110.291435 \r\nL 203.269662 130.260302 \r\nL 203.459537 103.442489 \r\nL 203.554475 126.792481 \r\nL 203.649412 90.524858 \r\nL 203.74435 108.008453 \r\nL 203.839287 95.524299 \r\nL 203.934225 121.243968 \r\nL 204.029162 106.794716 \r\nL 204.1241 114.510617 \r\nL 204.219037 110.089145 \r\nL 204.313975 94.74404 \r\nL 204.408912 114.684008 \r\nL 204.503849 113.67256 \r\nL 204.598787 123.180168 \r\nL 204.788662 98.645338 \r\nL 204.883599 118.180727 \r\nL 204.978537 115.261978 \r\nL 205.073474 111.245086 \r\nL 205.168412 118.440813 \r\nL 205.263349 105.291994 \r\nL 205.358287 109.308886 \r\nL 205.453224 98.038469 \r\nL 205.548162 130.404794 \r\nL 205.738036 106.245644 \r\nL 205.832974 106.91031 \r\nL 206.117786 134.248295 \r\nL 206.402599 105.378689 \r\nL 206.592474 98.847627 \r\nL 206.782349 128.55529 \r\nL 206.972224 103.875967 \r\nL 207.067161 111.216187 \r\nL 207.162098 109.540074 \r\nL 207.257036 120.088028 \r\nL 207.351973 99.310003 \r\nL 207.446911 107.517179 \r\nL 207.731723 101.679681 \r\nL 207.921598 105.725471 \r\nL 208.016536 104.627328 \r\nL 208.111473 118.49861 \r\nL 208.396285 91.391813 \r\nL 208.58616 125.145266 \r\nL 208.681098 107.863961 \r\nL 208.776035 114.597312 \r\nL 208.870973 106.852513 \r\nL 208.870973 106.852513 \r\n\" style=\"fill:none;stroke:#1f77b4;stroke-linecap:square;stroke-width:1.5;\"/>\r\n   </g>\r\n   <g id=\"patch_3\">\r\n    <path d=\"M 65.524899 159.950625 \r\nL 65.524899 22.370625 \r\n\" style=\"fill:none;stroke:#000000;stroke-linecap:square;stroke-linejoin:miter;stroke-width:1.25;\"/>\r\n   </g>\r\n   <g id=\"patch_4\">\r\n    <path d=\"M 65.524899 159.950625 \r\nL 215.696976 159.950625 \r\n\" style=\"fill:none;stroke:#000000;stroke-linecap:square;stroke-linejoin:miter;stroke-width:1.25;\"/>\r\n   </g>\r\n   <g id=\"text_11\">\r\n    <!-- succee_rate = 1.0 | serviceName = osb_001 -->\r\n    <g transform=\"translate(7.2 16.370625)scale(0.12 -0.12)\">\r\n     <defs>\r\n      <path d=\"M 44.28125 53.078125 \r\nL 44.28125 44.578125 \r\nQ 40.484375 46.53125 36.375 47.5 \r\nQ 32.28125 48.484375 27.875 48.484375 \r\nQ 21.1875 48.484375 17.84375 46.4375 \r\nQ 14.5 44.390625 14.5 40.28125 \r\nQ 14.5 37.15625 16.890625 35.375 \r\nQ 19.28125 33.59375 26.515625 31.984375 \r\nL 29.59375 31.296875 \r\nQ 39.15625 29.25 43.1875 25.515625 \r\nQ 47.21875 21.78125 47.21875 15.09375 \r\nQ 47.21875 7.46875 41.1875 3.015625 \r\nQ 35.15625 -1.421875 24.609375 -1.421875 \r\nQ 20.21875 -1.421875 15.453125 -0.5625 \r\nQ 10.6875 0.296875 5.421875 2 \r\nL 5.421875 11.28125 \r\nQ 10.40625 8.6875 15.234375 7.390625 \r\nQ 20.0625 6.109375 24.8125 6.109375 \r\nQ 31.15625 6.109375 34.5625 8.28125 \r\nQ 37.984375 10.453125 37.984375 14.40625 \r\nQ 37.984375 18.0625 35.515625 20.015625 \r\nQ 33.0625 21.96875 24.703125 23.78125 \r\nL 21.578125 24.515625 \r\nQ 13.234375 26.265625 9.515625 29.90625 \r\nQ 5.8125 33.546875 5.8125 39.890625 \r\nQ 5.8125 47.609375 11.28125 51.796875 \r\nQ 16.75 56 26.8125 56 \r\nQ 31.78125 56 36.171875 55.265625 \r\nQ 40.578125 54.546875 44.28125 53.078125 \r\nz\r\n\" id=\"DejaVuSans-115\"/>\r\n      <path d=\"M 8.5 21.578125 \r\nL 8.5 54.6875 \r\nL 17.484375 54.6875 \r\nL 17.484375 21.921875 \r\nQ 17.484375 14.15625 20.5 10.265625 \r\nQ 23.53125 6.390625 29.59375 6.390625 \r\nQ 36.859375 6.390625 41.078125 11.03125 \r\nQ 45.3125 15.671875 45.3125 23.6875 \r\nL 45.3125 54.6875 \r\nL 54.296875 54.6875 \r\nL 54.296875 0 \r\nL 45.3125 0 \r\nL 45.3125 8.40625 \r\nQ 42.046875 3.421875 37.71875 1 \r\nQ 33.40625 -1.421875 27.6875 -1.421875 \r\nQ 18.265625 -1.421875 13.375 4.4375 \r\nQ 8.5 10.296875 8.5 21.578125 \r\nz\r\nM 31.109375 56 \r\nz\r\n\" id=\"DejaVuSans-117\"/>\r\n      <path d=\"M 48.78125 52.59375 \r\nL 48.78125 44.1875 \r\nQ 44.96875 46.296875 41.140625 47.34375 \r\nQ 37.3125 48.390625 33.40625 48.390625 \r\nQ 24.65625 48.390625 19.8125 42.84375 \r\nQ 14.984375 37.3125 14.984375 27.296875 \r\nQ 14.984375 17.28125 19.8125 11.734375 \r\nQ 24.65625 6.203125 33.40625 6.203125 \r\nQ 37.3125 6.203125 41.140625 7.25 \r\nQ 44.96875 8.296875 48.78125 10.40625 \r\nL 48.78125 2.09375 \r\nQ 45.015625 0.34375 40.984375 -0.53125 \r\nQ 36.96875 -1.421875 32.421875 -1.421875 \r\nQ 20.0625 -1.421875 12.78125 6.34375 \r\nQ 5.515625 14.109375 5.515625 27.296875 \r\nQ 5.515625 40.671875 12.859375 48.328125 \r\nQ 20.21875 56 33.015625 56 \r\nQ 37.15625 56 41.109375 55.140625 \r\nQ 45.0625 54.296875 48.78125 52.59375 \r\nz\r\n\" id=\"DejaVuSans-99\"/>\r\n      <path d=\"M 41.109375 46.296875 \r\nQ 39.59375 47.171875 37.8125 47.578125 \r\nQ 36.03125 48 33.890625 48 \r\nQ 26.265625 48 22.1875 43.046875 \r\nQ 18.109375 38.09375 18.109375 28.8125 \r\nL 18.109375 0 \r\nL 9.078125 0 \r\nL 9.078125 54.6875 \r\nL 18.109375 54.6875 \r\nL 18.109375 46.1875 \r\nQ 20.953125 51.171875 25.484375 53.578125 \r\nQ 30.03125 56 36.53125 56 \r\nQ 37.453125 56 38.578125 55.875 \r\nQ 39.703125 55.765625 41.0625 55.515625 \r\nz\r\n\" id=\"DejaVuSans-114\"/>\r\n      <path id=\"DejaVuSans-32\"/>\r\n      <path d=\"M 10.59375 45.40625 \r\nL 73.1875 45.40625 \r\nL 73.1875 37.203125 \r\nL 10.59375 37.203125 \r\nz\r\nM 10.59375 25.484375 \r\nL 73.1875 25.484375 \r\nL 73.1875 17.1875 \r\nL 10.59375 17.1875 \r\nz\r\n\" id=\"DejaVuSans-61\"/>\r\n      <path d=\"M 21 76.421875 \r\nL 21 -23.578125 \r\nL 12.703125 -23.578125 \r\nL 12.703125 76.421875 \r\nz\r\n\" id=\"DejaVuSans-124\"/>\r\n      <path d=\"M 9.8125 72.90625 \r\nL 23.09375 72.90625 \r\nL 55.421875 11.921875 \r\nL 55.421875 72.90625 \r\nL 64.984375 72.90625 \r\nL 64.984375 0 \r\nL 51.703125 0 \r\nL 19.390625 60.984375 \r\nL 19.390625 0 \r\nL 9.8125 0 \r\nz\r\n\" id=\"DejaVuSans-78\"/>\r\n      <path d=\"M 30.609375 48.390625 \r\nQ 23.390625 48.390625 19.1875 42.75 \r\nQ 14.984375 37.109375 14.984375 27.296875 \r\nQ 14.984375 17.484375 19.15625 11.84375 \r\nQ 23.34375 6.203125 30.609375 6.203125 \r\nQ 37.796875 6.203125 41.984375 11.859375 \r\nQ 46.1875 17.53125 46.1875 27.296875 \r\nQ 46.1875 37.015625 41.984375 42.703125 \r\nQ 37.796875 48.390625 30.609375 48.390625 \r\nz\r\nM 30.609375 56 \r\nQ 42.328125 56 49.015625 48.375 \r\nQ 55.71875 40.765625 55.71875 27.296875 \r\nQ 55.71875 13.875 49.015625 6.21875 \r\nQ 42.328125 -1.421875 30.609375 -1.421875 \r\nQ 18.84375 -1.421875 12.171875 6.21875 \r\nQ 5.515625 13.875 5.515625 27.296875 \r\nQ 5.515625 40.765625 12.171875 48.375 \r\nQ 18.84375 56 30.609375 56 \r\nz\r\n\" id=\"DejaVuSans-111\"/>\r\n      <path d=\"M 48.6875 27.296875 \r\nQ 48.6875 37.203125 44.609375 42.84375 \r\nQ 40.53125 48.484375 33.40625 48.484375 \r\nQ 26.265625 48.484375 22.1875 42.84375 \r\nQ 18.109375 37.203125 18.109375 27.296875 \r\nQ 18.109375 17.390625 22.1875 11.75 \r\nQ 26.265625 6.109375 33.40625 6.109375 \r\nQ 40.53125 6.109375 44.609375 11.75 \r\nQ 48.6875 17.390625 48.6875 27.296875 \r\nz\r\nM 18.109375 46.390625 \r\nQ 20.953125 51.265625 25.265625 53.625 \r\nQ 29.59375 56 35.59375 56 \r\nQ 45.5625 56 51.78125 48.09375 \r\nQ 58.015625 40.1875 58.015625 27.296875 \r\nQ 58.015625 14.40625 51.78125 6.484375 \r\nQ 45.5625 -1.421875 35.59375 -1.421875 \r\nQ 29.59375 -1.421875 25.265625 0.953125 \r\nQ 20.953125 3.328125 18.109375 8.203125 \r\nL 18.109375 0 \r\nL 9.078125 0 \r\nL 9.078125 75.984375 \r\nL 18.109375 75.984375 \r\nz\r\n\" id=\"DejaVuSans-98\"/>\r\n     </defs>\r\n     <use xlink:href=\"#DejaVuSans-115\"/>\r\n     <use x=\"52.099609\" xlink:href=\"#DejaVuSans-117\"/>\r\n     <use x=\"115.478516\" xlink:href=\"#DejaVuSans-99\"/>\r\n     <use x=\"170.458984\" xlink:href=\"#DejaVuSans-99\"/>\r\n     <use x=\"225.439453\" xlink:href=\"#DejaVuSans-101\"/>\r\n     <use x=\"286.962891\" xlink:href=\"#DejaVuSans-101\"/>\r\n     <use x=\"348.486328\" xlink:href=\"#DejaVuSans-95\"/>\r\n     <use x=\"398.486328\" xlink:href=\"#DejaVuSans-114\"/>\r\n     <use x=\"439.599609\" xlink:href=\"#DejaVuSans-97\"/>\r\n     <use x=\"500.878906\" xlink:href=\"#DejaVuSans-116\"/>\r\n     <use x=\"540.087891\" xlink:href=\"#DejaVuSans-101\"/>\r\n     <use x=\"601.611328\" xlink:href=\"#DejaVuSans-32\"/>\r\n     <use x=\"633.398438\" xlink:href=\"#DejaVuSans-61\"/>\r\n     <use x=\"717.1875\" xlink:href=\"#DejaVuSans-32\"/>\r\n     <use x=\"748.974609\" xlink:href=\"#DejaVuSans-49\"/>\r\n     <use x=\"812.597656\" xlink:href=\"#DejaVuSans-46\"/>\r\n     <use x=\"844.384766\" xlink:href=\"#DejaVuSans-48\"/>\r\n     <use x=\"908.007812\" xlink:href=\"#DejaVuSans-32\"/>\r\n     <use x=\"939.794922\" xlink:href=\"#DejaVuSans-124\"/>\r\n     <use x=\"973.486328\" xlink:href=\"#DejaVuSans-32\"/>\r\n     <use x=\"1005.273438\" xlink:href=\"#DejaVuSans-115\"/>\r\n     <use x=\"1057.373047\" xlink:href=\"#DejaVuSans-101\"/>\r\n     <use x=\"1118.896484\" xlink:href=\"#DejaVuSans-114\"/>\r\n     <use x=\"1160.009766\" xlink:href=\"#DejaVuSans-118\"/>\r\n     <use x=\"1219.189453\" xlink:href=\"#DejaVuSans-105\"/>\r\n     <use x=\"1246.972656\" xlink:href=\"#DejaVuSans-99\"/>\r\n     <use x=\"1301.953125\" xlink:href=\"#DejaVuSans-101\"/>\r\n     <use x=\"1363.476562\" xlink:href=\"#DejaVuSans-78\"/>\r\n     <use x=\"1438.28125\" xlink:href=\"#DejaVuSans-97\"/>\r\n     <use x=\"1499.560547\" xlink:href=\"#DejaVuSans-109\"/>\r\n     <use x=\"1596.972656\" xlink:href=\"#DejaVuSans-101\"/>\r\n     <use x=\"1658.496094\" xlink:href=\"#DejaVuSans-32\"/>\r\n     <use x=\"1690.283203\" xlink:href=\"#DejaVuSans-61\"/>\r\n     <use x=\"1774.072266\" xlink:href=\"#DejaVuSans-32\"/>\r\n     <use x=\"1805.859375\" xlink:href=\"#DejaVuSans-111\"/>\r\n     <use x=\"1867.041016\" xlink:href=\"#DejaVuSans-115\"/>\r\n     <use x=\"1919.140625\" xlink:href=\"#DejaVuSans-98\"/>\r\n     <use x=\"1982.617188\" xlink:href=\"#DejaVuSans-95\"/>\r\n     <use x=\"2032.617188\" xlink:href=\"#DejaVuSans-48\"/>\r\n     <use x=\"2096.240234\" xlink:href=\"#DejaVuSans-48\"/>\r\n     <use x=\"2159.863281\" xlink:href=\"#DejaVuSans-49\"/>\r\n    </g>\r\n   </g>\r\n  </g>\r\n </g>\r\n <defs>\r\n  <clipPath id=\"pc530b90d0f\">\r\n   <rect height=\"137.58\" width=\"150.172078\" x=\"65.524899\" y=\"22.370625\"/>\r\n  </clipPath>\r\n </defs>\r\n</svg>\r\n",
      "image/png": "[encoded data removed]"
     },
     "metadata": {
      "needs_background": "light"
     }
    }
   ],
   "source": [
    "# VISUALIZE DATA\n",
    "## esb\n",
    "esb = sns.FacetGrid(esb_df, col='service_name', row='succee_rate', palette='pastel')\n",
    "esb = esb.map(plt.plot, 'avg_time')"
   ]
  },
  {
   "source": [
    "## host kpi\n",
    "### treatment\n",
    "- What sort of data is contained in the host_df dataframe ?\n",
    "- We have 6 columns (itemid name bomc_id timestamp value cmdb_id) and we would like to see what's inside.\n",
    "- First, let's go simple and get a look at the .describe() which will tell us the count, unique values and ather interesting features\n",
    "\n",
    "### observations\n",
    "- 'name' seems consistent with 'bomc_id' (130 unique values)"
   ],
   "cell_type": "markdown",
   "metadata": {}
  },
  {
   "cell_type": "code",
   "execution_count": 6,
   "metadata": {},
   "outputs": [
    {
     "output_type": "stream",
     "name": "stdout",
     "text": [
      "---name---\n",
      "count          2387373\n",
      "unique             130\n",
      "top       Disk_io_util\n",
      "freq             89353\n",
      "Name: name, dtype: object\n",
      "---itemid---\n",
      "count             2387373\n",
      "unique               2508\n",
      "top       999999996508263\n",
      "freq                 1440\n",
      "Name: itemid, dtype: object\n",
      "---bomc_id---\n",
      "count        2378013\n",
      "unique           130\n",
      "top       ZJ-001-069\n",
      "freq           69119\n",
      "Name: bomc_id, dtype: object\n",
      "---cmdb_id---\n",
      "count     2387373\n",
      "unique         57\n",
      "top        os_017\n",
      "freq        58767\n",
      "Name: cmdb_id, dtype: object\n"
     ]
    }
   ],
   "source": [
    "# VISUALIZE DATA\n",
    "## host kpi\n",
    "print(\"{}name{}\".format('-'*3, '-'*3))\n",
    "print(host_df['name'].describe())\n",
    "print(\"{}item_id{}\".format('-'*3, '-'*3))\n",
    "print(host_df['item_id'].astype(str).describe()) # itemid, because it's an id, must be considered as string (for counts, unique...)\n",
    "print(\"{}bomc_id{}\".format('-'*3, '-'*3))\n",
    "print(host_df['bomc_id'].describe())\n",
    "print(\"{}cmdb_id{}\".format('-'*3, '-'*3))\n",
    "print(host_df['cmdb_id'].describe())"
   ]
  },
  {
   "source": [
    "## host KPI (cont'd)\n",
    "### treatment\n",
    "- Second, let's try to visualize the previous data using plots (which would be much more clear, convenient and understandable)\n",
    "\n",
    "### observations\n",
    "\n",
    "- KPIs index describes how well the hoes is going. \n",
    "- After noticing an anomaly in, say, esb_df['avg_time'], we can look up in these KPIs value to see which component fails, what is the source of the problem => for troubleshooting\n",
    "- OR we can double check on both sides (avg_time AND these KPIs values) to detect directly the failing component rather than detect an anomaly and then look up for it.\n",
    "- The trace_df should help us find the failing component from the anomaly (tracing back to the source of the problem)"
   ],
   "cell_type": "markdown",
   "metadata": {}
  },
  {
   "source": [
    "## (host KPI cont'd)\n",
    "data=host_df.iloc[:100] # only take the first 100 values to visualize (it's too big)\n",
    "\n",
    "fig, axes = plt.subplots(2, 1, figsize=(10, 5))\n",
    "fig.suptitle(\"Value v/s timestamp\", fontweight='bold')\n",
    "host1 = sns.lineplot(ax = axes[0], data=data, x='timestamp', y='value')\n",
    "axes[0].set_title(\"no hue\")\n",
    "axes[0].set_ylim(0, data['value'].mean()) # un-flatten the curve (haha)\n",
    "\n",
    "host2 = sns.lineplot(ax = axes[1], data=data, x='timestamp', y='value', hue='name', legend=False)\n",
    "axes[1].set_title(\"hue = 'name'\")\n",
    "axes[1].set_ylim(0, data['value'].mean()) \n",
    "\n",
    "fig.tight_layout()\n",
    "\n",
    "# host = sns.FacetGrid(host_df.sort_values(by='timestamp').iloc[:100], col='name', col_wrap=5)\n",
    "# host = host.map(plt.plot, 'value', 'timestamp')"
   ],
   "cell_type": "code",
   "metadata": {},
   "execution_count": null,
   "outputs": []
  },
  {
   "source": [
    "## trace \n",
    "- what are the services involed in the same trace frequently ?\n",
    "- what spans frequently call each other ?"
   ],
   "cell_type": "markdown",
   "metadata": {}
  },
  {
   "cell_type": "code",
   "execution_count": 8,
   "metadata": {},
   "outputs": [
    {
     "output_type": "execute_result",
     "data": {
      "text/plain": [
       "                 traceId  elapsedTime\n",
       "0   14b18171db4409d14596        57.60\n",
       "1   1bb42171db4405934720       359.40\n",
       "2   1bbd3171db44052d3700       331.00\n",
       "3   1c094171db4404154872       299.60\n",
       "4   1da4c171db4404134276       297.20\n",
       "5   2b095171db4404593730       105.00\n",
       "6   2bbb0171db4407f54562       121.80\n",
       "7   487b8171db4404183694        96.80\n",
       "8   4e785171db4408a24814        73.00\n",
       "9   82c4b171db4408a44818        73.00\n",
       "10  8f5b6171db4404104802       209.00\n",
       "11  8fb50171db4404174874        53.60\n",
       "12  a1348171db4404164806       201.00\n",
       "13  a4572171db4408c64590        54.80\n",
       "14  c6ed6171db4409dc4882       925.50\n",
       "15  c974a171db4407f54560       451.25\n",
       "16  c9b02171db4409c14288        53.40\n",
       "17  d3822171db4404174714       380.20\n",
       "18  d47a7171db44045e4282       281.20\n",
       "19  d49ae171db4404133724       339.60\n",
       "20  e09a6171db440a123736       125.50\n",
       "21  fb3e1171db440a0e4294       124.50"
      ],
      "text/html": "<div>\n<style scoped>\n    .dataframe tbody tr th:only-of-type {\n        vertical-align: middle;\n    }\n\n    .dataframe tbody tr th {\n        vertical-align: top;\n    }\n\n    .dataframe thead th {\n        text-align: right;\n    }\n</style>\n<table border=\"1\" class=\"dataframe\">\n  <thead>\n    <tr style=\"text-align: right;\">\n      <th></th>\n      <th>traceId</th>\n      <th>elapsedTime</th>\n    </tr>\n  </thead>\n  <tbody>\n    <tr>\n      <th>0</th>\n      <td>14b18171db4409d14596</td>\n      <td>57.60</td>\n    </tr>\n    <tr>\n      <th>1</th>\n      <td>1bb42171db4405934720</td>\n      <td>359.40</td>\n    </tr>\n    <tr>\n      <th>2</th>\n      <td>1bbd3171db44052d3700</td>\n      <td>331.00</td>\n    </tr>\n    <tr>\n      <th>3</th>\n      <td>1c094171db4404154872</td>\n      <td>299.60</td>\n    </tr>\n    <tr>\n      <th>4</th>\n      <td>1da4c171db4404134276</td>\n      <td>297.20</td>\n    </tr>\n    <tr>\n      <th>5</th>\n      <td>2b095171db4404593730</td>\n      <td>105.00</td>\n    </tr>\n    <tr>\n      <th>6</th>\n      <td>2bbb0171db4407f54562</td>\n      <td>121.80</td>\n    </tr>\n    <tr>\n      <th>7</th>\n      <td>487b8171db4404183694</td>\n      <td>96.80</td>\n    </tr>\n    <tr>\n      <th>8</th>\n      <td>4e785171db4408a24814</td>\n      <td>73.00</td>\n    </tr>\n    <tr>\n      <th>9</th>\n      <td>82c4b171db4408a44818</td>\n      <td>73.00</td>\n    </tr>\n    <tr>\n      <th>10</th>\n      <td>8f5b6171db4404104802</td>\n      <td>209.00</td>\n    </tr>\n    <tr>\n      <th>11</th>\n      <td>8fb50171db4404174874</td>\n      <td>53.60</td>\n    </tr>\n    <tr>\n      <th>12</th>\n      <td>a1348171db4404164806</td>\n      <td>201.00</td>\n    </tr>\n    <tr>\n      <th>13</th>\n      <td>a4572171db4408c64590</td>\n      <td>54.80</td>\n    </tr>\n    <tr>\n      <th>14</th>\n      <td>c6ed6171db4409dc4882</td>\n      <td>925.50</td>\n    </tr>\n    <tr>\n      <th>15</th>\n      <td>c974a171db4407f54560</td>\n      <td>451.25</td>\n    </tr>\n    <tr>\n      <th>16</th>\n      <td>c9b02171db4409c14288</td>\n      <td>53.40</td>\n    </tr>\n    <tr>\n      <th>17</th>\n      <td>d3822171db4404174714</td>\n      <td>380.20</td>\n    </tr>\n    <tr>\n      <th>18</th>\n      <td>d47a7171db44045e4282</td>\n      <td>281.20</td>\n    </tr>\n    <tr>\n      <th>19</th>\n      <td>d49ae171db4404133724</td>\n      <td>339.60</td>\n    </tr>\n    <tr>\n      <th>20</th>\n      <td>e09a6171db440a123736</td>\n      <td>125.50</td>\n    </tr>\n    <tr>\n      <th>21</th>\n      <td>fb3e1171db440a0e4294</td>\n      <td>124.50</td>\n    </tr>\n  </tbody>\n</table>\n</div>"
     },
     "metadata": {},
     "execution_count": 8
    }
   ],
   "source": [
    "# VISUALIZE DATA\n",
    "## trace\n",
    "data = trace_df.iloc[:100]\n",
    "\n",
    "# average elapsed time of each trace_id to execute\n",
    "# data[['traceId', 'elapsedTime']].groupby(['traceId'], as_index=False).mean()\n"
   ]
  },
  {
   "cell_type": "code",
   "execution_count": null,
   "metadata": {},
   "outputs": [],
   "source": [
    "# TEST: moving average on esb_df['avg_time]\n",
    "#       we consider the time series approach: different moving average smoothing to detect anomalies.\n",
    "#       see lesson 5 - time series\n",
    "\n",
    "# Below are 2 figures for esb_df['avg_time'] where the first one plots a simple moving average \n",
    "#       applied to the data, and the second plots a simple exponential moving average\n",
    "window_sizes = [2, 5, 10, 20, 50]\n",
    "fig, axes = plt.subplots(3, 1, figsize=(10, 15))\n",
    "fig.suptitle(\"Different moving average smoothing for esb\", fontsize=16, fontweight='bold')\n",
    "\n",
    "# visualization aesthetics\n",
    "current_palette = sns.color_palette('pastel', n_colors=len(window_sizes))\n",
    "cmap = ListedColormap(sns.color_palette(current_palette).as_hex())\n",
    "colors = plt.cm.jet(np.linspace(0, 1, len(window_sizes)+1))\n",
    "\n",
    "# moving average (simple)\n",
    "axes[0].plot(esb_df['avg_time'], color=colors[0], label=\"esb\", alpha=.2)\n",
    "for i in range(len(window_sizes)):\n",
    "    axes[0].plot(esb_df['avg_time'].rolling(window=window_sizes[i]).mean(), color=colors[i+1], label=\"win_size={}\".format(window_sizes[i]))\n",
    "axes[0].set_xlabel(\"sample no\")\n",
    "axes[0].set_ylabel(\"business indicator (esb)\")\n",
    "axes[0].set_title(\"Simple moving average\", fontweight='bold')\n",
    "axes[0].legend(loc='best')\n",
    "\n",
    "# simple exponential moving average\n",
    "axes[1].plot(esb_df['avg_time'], color=colors[0], label=\"esb\", alpha=.2)\n",
    "for i in range(len(window_sizes)):\n",
    "    axes[1].plot(esb_df['avg_time'].ewm(span=window_sizes[i]).mean(), color=colors[i+1], label=\"win_size={}\".format(window_sizes[i]))\n",
    "axes[1].set_xlabel(\"sample no\")\n",
    "axes[1].set_ylabel(\"business indicator (esb)\")\n",
    "axes[1].set_title(\"Exponential moving average - no fitting\", fontweight='bold')\n",
    "axes[1].legend(loc='best')\n",
    "\n",
    "fig.tight_layout()"
   ]
  },
  {
   "cell_type": "code",
   "execution_count": null,
   "metadata": {},
   "outputs": [],
   "source": [
    "# see https://machinelearningmastery.com/exponential-smoothing-for-time-series-forecasting-in-python/\n",
    "# NOTE: work in progress...\n",
    "#       still needs some understanding of exponential smoothing and how to use the library\n",
    "from statsmodels.tsa.holtwinters import SimpleExpSmoothing\n",
    "from statsmodels.tsa.holtwinters import ExponentialSmoothing\n",
    "\n",
    "model = SimpleExpSmoothing(esb_df['avg_time'])\n",
    "model_fit = model.fit()\n",
    "yhat = model_fit.predict()\n",
    "\n",
    "\n",
    "fig, axes = plt.subplots(2, 1, figsize=(10, 15))\n",
    "axes[0].plot(model_fit)\n",
    "\n",
    "fig.tight_layout()\n",
    "print(model_fit)\n"
   ]
  }
 ]
}